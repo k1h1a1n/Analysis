{
 "cells": [
  {
   "cell_type": "code",
   "execution_count": 1,
   "metadata": {},
   "outputs": [],
   "source": [
    "import pandas as pd\n",
    "import numpy as np\n",
    "import seaborn as sns\n",
    "import matplotlib.pyplot as plt\n",
    "import warnings\n",
    "warnings.filterwarnings('ignore')"
   ]
  },
  {
   "cell_type": "code",
   "execution_count": 2,
   "metadata": {},
   "outputs": [],
   "source": [
    "data=pd.read_csv(r'/home/khan/Downloads/indian-liver-patient-records/indian_liver_patient.csv')"
   ]
  },
  {
   "cell_type": "code",
   "execution_count": 3,
   "metadata": {},
   "outputs": [
    {
     "data": {
      "text/html": [
       "<div>\n",
       "<style scoped>\n",
       "    .dataframe tbody tr th:only-of-type {\n",
       "        vertical-align: middle;\n",
       "    }\n",
       "\n",
       "    .dataframe tbody tr th {\n",
       "        vertical-align: top;\n",
       "    }\n",
       "\n",
       "    .dataframe thead th {\n",
       "        text-align: right;\n",
       "    }\n",
       "</style>\n",
       "<table border=\"1\" class=\"dataframe\">\n",
       "  <thead>\n",
       "    <tr style=\"text-align: right;\">\n",
       "      <th></th>\n",
       "      <th>Age</th>\n",
       "      <th>Gender</th>\n",
       "      <th>Total_Bilirubin</th>\n",
       "      <th>Direct_Bilirubin</th>\n",
       "      <th>Alkaline_Phosphotase</th>\n",
       "      <th>Alamine_Aminotransferase</th>\n",
       "      <th>Aspartate_Aminotransferase</th>\n",
       "      <th>Total_Protiens</th>\n",
       "      <th>Albumin</th>\n",
       "      <th>Albumin_and_Globulin_Ratio</th>\n",
       "      <th>Dataset</th>\n",
       "    </tr>\n",
       "  </thead>\n",
       "  <tbody>\n",
       "    <tr>\n",
       "      <th>0</th>\n",
       "      <td>65</td>\n",
       "      <td>Female</td>\n",
       "      <td>0.7</td>\n",
       "      <td>0.1</td>\n",
       "      <td>187</td>\n",
       "      <td>16</td>\n",
       "      <td>18</td>\n",
       "      <td>6.8</td>\n",
       "      <td>3.3</td>\n",
       "      <td>0.90</td>\n",
       "      <td>1</td>\n",
       "    </tr>\n",
       "    <tr>\n",
       "      <th>1</th>\n",
       "      <td>62</td>\n",
       "      <td>Male</td>\n",
       "      <td>10.9</td>\n",
       "      <td>5.5</td>\n",
       "      <td>699</td>\n",
       "      <td>64</td>\n",
       "      <td>100</td>\n",
       "      <td>7.5</td>\n",
       "      <td>3.2</td>\n",
       "      <td>0.74</td>\n",
       "      <td>1</td>\n",
       "    </tr>\n",
       "    <tr>\n",
       "      <th>2</th>\n",
       "      <td>62</td>\n",
       "      <td>Male</td>\n",
       "      <td>7.3</td>\n",
       "      <td>4.1</td>\n",
       "      <td>490</td>\n",
       "      <td>60</td>\n",
       "      <td>68</td>\n",
       "      <td>7.0</td>\n",
       "      <td>3.3</td>\n",
       "      <td>0.89</td>\n",
       "      <td>1</td>\n",
       "    </tr>\n",
       "    <tr>\n",
       "      <th>3</th>\n",
       "      <td>58</td>\n",
       "      <td>Male</td>\n",
       "      <td>1.0</td>\n",
       "      <td>0.4</td>\n",
       "      <td>182</td>\n",
       "      <td>14</td>\n",
       "      <td>20</td>\n",
       "      <td>6.8</td>\n",
       "      <td>3.4</td>\n",
       "      <td>1.00</td>\n",
       "      <td>1</td>\n",
       "    </tr>\n",
       "    <tr>\n",
       "      <th>4</th>\n",
       "      <td>72</td>\n",
       "      <td>Male</td>\n",
       "      <td>3.9</td>\n",
       "      <td>2.0</td>\n",
       "      <td>195</td>\n",
       "      <td>27</td>\n",
       "      <td>59</td>\n",
       "      <td>7.3</td>\n",
       "      <td>2.4</td>\n",
       "      <td>0.40</td>\n",
       "      <td>1</td>\n",
       "    </tr>\n",
       "  </tbody>\n",
       "</table>\n",
       "</div>"
      ],
      "text/plain": [
       "   Age  Gender  Total_Bilirubin  Direct_Bilirubin  Alkaline_Phosphotase  \\\n",
       "0   65  Female              0.7               0.1                   187   \n",
       "1   62    Male             10.9               5.5                   699   \n",
       "2   62    Male              7.3               4.1                   490   \n",
       "3   58    Male              1.0               0.4                   182   \n",
       "4   72    Male              3.9               2.0                   195   \n",
       "\n",
       "   Alamine_Aminotransferase  Aspartate_Aminotransferase  Total_Protiens  \\\n",
       "0                        16                          18             6.8   \n",
       "1                        64                         100             7.5   \n",
       "2                        60                          68             7.0   \n",
       "3                        14                          20             6.8   \n",
       "4                        27                          59             7.3   \n",
       "\n",
       "   Albumin  Albumin_and_Globulin_Ratio  Dataset  \n",
       "0      3.3                        0.90        1  \n",
       "1      3.2                        0.74        1  \n",
       "2      3.3                        0.89        1  \n",
       "3      3.4                        1.00        1  \n",
       "4      2.4                        0.40        1  "
      ]
     },
     "execution_count": 3,
     "metadata": {},
     "output_type": "execute_result"
    }
   ],
   "source": [
    "data.head()"
   ]
  },
  {
   "cell_type": "code",
   "execution_count": 4,
   "metadata": {},
   "outputs": [
    {
     "name": "stdout",
     "output_type": "stream",
     "text": [
      "<class 'pandas.core.frame.DataFrame'>\n",
      "RangeIndex: 583 entries, 0 to 582\n",
      "Data columns (total 11 columns):\n",
      "Age                           583 non-null int64\n",
      "Gender                        583 non-null object\n",
      "Total_Bilirubin               583 non-null float64\n",
      "Direct_Bilirubin              583 non-null float64\n",
      "Alkaline_Phosphotase          583 non-null int64\n",
      "Alamine_Aminotransferase      583 non-null int64\n",
      "Aspartate_Aminotransferase    583 non-null int64\n",
      "Total_Protiens                583 non-null float64\n",
      "Albumin                       583 non-null float64\n",
      "Albumin_and_Globulin_Ratio    579 non-null float64\n",
      "Dataset                       583 non-null int64\n",
      "dtypes: float64(5), int64(5), object(1)\n",
      "memory usage: 50.2+ KB\n"
     ]
    }
   ],
   "source": [
    "data.info()"
   ]
  },
  {
   "cell_type": "code",
   "execution_count": 5,
   "metadata": {},
   "outputs": [
    {
     "data": {
      "text/plain": [
       "Age                           0\n",
       "Gender                        0\n",
       "Total_Bilirubin               0\n",
       "Direct_Bilirubin              0\n",
       "Alkaline_Phosphotase          0\n",
       "Alamine_Aminotransferase      0\n",
       "Aspartate_Aminotransferase    0\n",
       "Total_Protiens                0\n",
       "Albumin                       0\n",
       "Albumin_and_Globulin_Ratio    4\n",
       "Dataset                       0\n",
       "dtype: int64"
      ]
     },
     "execution_count": 5,
     "metadata": {},
     "output_type": "execute_result"
    }
   ],
   "source": [
    "data.isnull().sum()"
   ]
  },
  {
   "cell_type": "code",
   "execution_count": 6,
   "metadata": {},
   "outputs": [],
   "source": [
    "data['Albumin_and_Globulin_Ratio'].fillna(value=data['Albumin_and_Globulin_Ratio'].mean(),inplace=True)"
   ]
  },
  {
   "cell_type": "code",
   "execution_count": 7,
   "metadata": {},
   "outputs": [
    {
     "data": {
      "text/html": [
       "<div>\n",
       "<style scoped>\n",
       "    .dataframe tbody tr th:only-of-type {\n",
       "        vertical-align: middle;\n",
       "    }\n",
       "\n",
       "    .dataframe tbody tr th {\n",
       "        vertical-align: top;\n",
       "    }\n",
       "\n",
       "    .dataframe thead th {\n",
       "        text-align: right;\n",
       "    }\n",
       "</style>\n",
       "<table border=\"1\" class=\"dataframe\">\n",
       "  <thead>\n",
       "    <tr style=\"text-align: right;\">\n",
       "      <th></th>\n",
       "      <th>Age</th>\n",
       "      <th>Total_Bilirubin</th>\n",
       "      <th>Direct_Bilirubin</th>\n",
       "      <th>Alkaline_Phosphotase</th>\n",
       "      <th>Alamine_Aminotransferase</th>\n",
       "      <th>Aspartate_Aminotransferase</th>\n",
       "      <th>Total_Protiens</th>\n",
       "      <th>Albumin</th>\n",
       "      <th>Albumin_and_Globulin_Ratio</th>\n",
       "      <th>Dataset</th>\n",
       "    </tr>\n",
       "  </thead>\n",
       "  <tbody>\n",
       "    <tr>\n",
       "      <th>0</th>\n",
       "      <td>65</td>\n",
       "      <td>0.7</td>\n",
       "      <td>0.1</td>\n",
       "      <td>187</td>\n",
       "      <td>16</td>\n",
       "      <td>18</td>\n",
       "      <td>6.8</td>\n",
       "      <td>3.3</td>\n",
       "      <td>0.90</td>\n",
       "      <td>1</td>\n",
       "    </tr>\n",
       "    <tr>\n",
       "      <th>1</th>\n",
       "      <td>62</td>\n",
       "      <td>10.9</td>\n",
       "      <td>5.5</td>\n",
       "      <td>699</td>\n",
       "      <td>64</td>\n",
       "      <td>100</td>\n",
       "      <td>7.5</td>\n",
       "      <td>3.2</td>\n",
       "      <td>0.74</td>\n",
       "      <td>1</td>\n",
       "    </tr>\n",
       "    <tr>\n",
       "      <th>2</th>\n",
       "      <td>62</td>\n",
       "      <td>7.3</td>\n",
       "      <td>4.1</td>\n",
       "      <td>490</td>\n",
       "      <td>60</td>\n",
       "      <td>68</td>\n",
       "      <td>7.0</td>\n",
       "      <td>3.3</td>\n",
       "      <td>0.89</td>\n",
       "      <td>1</td>\n",
       "    </tr>\n",
       "    <tr>\n",
       "      <th>3</th>\n",
       "      <td>58</td>\n",
       "      <td>1.0</td>\n",
       "      <td>0.4</td>\n",
       "      <td>182</td>\n",
       "      <td>14</td>\n",
       "      <td>20</td>\n",
       "      <td>6.8</td>\n",
       "      <td>3.4</td>\n",
       "      <td>1.00</td>\n",
       "      <td>1</td>\n",
       "    </tr>\n",
       "    <tr>\n",
       "      <th>4</th>\n",
       "      <td>72</td>\n",
       "      <td>3.9</td>\n",
       "      <td>2.0</td>\n",
       "      <td>195</td>\n",
       "      <td>27</td>\n",
       "      <td>59</td>\n",
       "      <td>7.3</td>\n",
       "      <td>2.4</td>\n",
       "      <td>0.40</td>\n",
       "      <td>1</td>\n",
       "    </tr>\n",
       "  </tbody>\n",
       "</table>\n",
       "</div>"
      ],
      "text/plain": [
       "   Age  Total_Bilirubin  Direct_Bilirubin  Alkaline_Phosphotase  \\\n",
       "0   65              0.7               0.1                   187   \n",
       "1   62             10.9               5.5                   699   \n",
       "2   62              7.3               4.1                   490   \n",
       "3   58              1.0               0.4                   182   \n",
       "4   72              3.9               2.0                   195   \n",
       "\n",
       "   Alamine_Aminotransferase  Aspartate_Aminotransferase  Total_Protiens  \\\n",
       "0                        16                          18             6.8   \n",
       "1                        64                         100             7.5   \n",
       "2                        60                          68             7.0   \n",
       "3                        14                          20             6.8   \n",
       "4                        27                          59             7.3   \n",
       "\n",
       "   Albumin  Albumin_and_Globulin_Ratio  Dataset  \n",
       "0      3.3                        0.90        1  \n",
       "1      3.2                        0.74        1  \n",
       "2      3.3                        0.89        1  \n",
       "3      3.4                        1.00        1  \n",
       "4      2.4                        0.40        1  "
      ]
     },
     "execution_count": 7,
     "metadata": {},
     "output_type": "execute_result"
    }
   ],
   "source": [
    "nc=data._get_numeric_data()\n",
    "nc.head()"
   ]
  },
  {
   "cell_type": "code",
   "execution_count": 8,
   "metadata": {},
   "outputs": [
    {
     "data": {
      "text/html": [
       "<div>\n",
       "<style scoped>\n",
       "    .dataframe tbody tr th:only-of-type {\n",
       "        vertical-align: middle;\n",
       "    }\n",
       "\n",
       "    .dataframe tbody tr th {\n",
       "        vertical-align: top;\n",
       "    }\n",
       "\n",
       "    .dataframe thead th {\n",
       "        text-align: right;\n",
       "    }\n",
       "</style>\n",
       "<table border=\"1\" class=\"dataframe\">\n",
       "  <thead>\n",
       "    <tr style=\"text-align: right;\">\n",
       "      <th></th>\n",
       "      <th>Gender</th>\n",
       "    </tr>\n",
       "  </thead>\n",
       "  <tbody>\n",
       "    <tr>\n",
       "      <th>0</th>\n",
       "      <td>Female</td>\n",
       "    </tr>\n",
       "    <tr>\n",
       "      <th>1</th>\n",
       "      <td>Male</td>\n",
       "    </tr>\n",
       "    <tr>\n",
       "      <th>2</th>\n",
       "      <td>Male</td>\n",
       "    </tr>\n",
       "    <tr>\n",
       "      <th>3</th>\n",
       "      <td>Male</td>\n",
       "    </tr>\n",
       "    <tr>\n",
       "      <th>4</th>\n",
       "      <td>Male</td>\n",
       "    </tr>\n",
       "  </tbody>\n",
       "</table>\n",
       "</div>"
      ],
      "text/plain": [
       "   Gender\n",
       "0  Female\n",
       "1    Male\n",
       "2    Male\n",
       "3    Male\n",
       "4    Male"
      ]
     },
     "execution_count": 8,
     "metadata": {},
     "output_type": "execute_result"
    }
   ],
   "source": [
    "cat=data.select_dtypes(include='object')\n",
    "cat.head()"
   ]
  },
  {
   "cell_type": "code",
   "execution_count": 9,
   "metadata": {},
   "outputs": [
    {
     "data": {
      "text/html": [
       "<div>\n",
       "<style scoped>\n",
       "    .dataframe tbody tr th:only-of-type {\n",
       "        vertical-align: middle;\n",
       "    }\n",
       "\n",
       "    .dataframe tbody tr th {\n",
       "        vertical-align: top;\n",
       "    }\n",
       "\n",
       "    .dataframe thead th {\n",
       "        text-align: right;\n",
       "    }\n",
       "</style>\n",
       "<table border=\"1\" class=\"dataframe\">\n",
       "  <thead>\n",
       "    <tr style=\"text-align: right;\">\n",
       "      <th></th>\n",
       "      <th>Gender_Female</th>\n",
       "      <th>Gender_Male</th>\n",
       "    </tr>\n",
       "  </thead>\n",
       "  <tbody>\n",
       "    <tr>\n",
       "      <th>0</th>\n",
       "      <td>1</td>\n",
       "      <td>0</td>\n",
       "    </tr>\n",
       "    <tr>\n",
       "      <th>1</th>\n",
       "      <td>0</td>\n",
       "      <td>1</td>\n",
       "    </tr>\n",
       "    <tr>\n",
       "      <th>2</th>\n",
       "      <td>0</td>\n",
       "      <td>1</td>\n",
       "    </tr>\n",
       "    <tr>\n",
       "      <th>3</th>\n",
       "      <td>0</td>\n",
       "      <td>1</td>\n",
       "    </tr>\n",
       "    <tr>\n",
       "      <th>4</th>\n",
       "      <td>0</td>\n",
       "      <td>1</td>\n",
       "    </tr>\n",
       "  </tbody>\n",
       "</table>\n",
       "</div>"
      ],
      "text/plain": [
       "   Gender_Female  Gender_Male\n",
       "0              1            0\n",
       "1              0            1\n",
       "2              0            1\n",
       "3              0            1\n",
       "4              0            1"
      ]
     },
     "execution_count": 9,
     "metadata": {},
     "output_type": "execute_result"
    }
   ],
   "source": [
    "dum=pd.get_dummies(cat)\n",
    "dum.head()"
   ]
  },
  {
   "cell_type": "code",
   "execution_count": 10,
   "metadata": {},
   "outputs": [
    {
     "data": {
      "text/html": [
       "<div>\n",
       "<style scoped>\n",
       "    .dataframe tbody tr th:only-of-type {\n",
       "        vertical-align: middle;\n",
       "    }\n",
       "\n",
       "    .dataframe tbody tr th {\n",
       "        vertical-align: top;\n",
       "    }\n",
       "\n",
       "    .dataframe thead th {\n",
       "        text-align: right;\n",
       "    }\n",
       "</style>\n",
       "<table border=\"1\" class=\"dataframe\">\n",
       "  <thead>\n",
       "    <tr style=\"text-align: right;\">\n",
       "      <th></th>\n",
       "      <th>Gender_Male</th>\n",
       "    </tr>\n",
       "  </thead>\n",
       "  <tbody>\n",
       "    <tr>\n",
       "      <th>0</th>\n",
       "      <td>0</td>\n",
       "    </tr>\n",
       "    <tr>\n",
       "      <th>1</th>\n",
       "      <td>1</td>\n",
       "    </tr>\n",
       "    <tr>\n",
       "      <th>2</th>\n",
       "      <td>1</td>\n",
       "    </tr>\n",
       "    <tr>\n",
       "      <th>3</th>\n",
       "      <td>1</td>\n",
       "    </tr>\n",
       "    <tr>\n",
       "      <th>4</th>\n",
       "      <td>1</td>\n",
       "    </tr>\n",
       "  </tbody>\n",
       "</table>\n",
       "</div>"
      ],
      "text/plain": [
       "   Gender_Male\n",
       "0            0\n",
       "1            1\n",
       "2            1\n",
       "3            1\n",
       "4            1"
      ]
     },
     "execution_count": 10,
     "metadata": {},
     "output_type": "execute_result"
    }
   ],
   "source": [
    "dum.drop(['Gender_Female'],axis=1,inplace=True)\n",
    "dum.head()"
   ]
  },
  {
   "cell_type": "code",
   "execution_count": 11,
   "metadata": {
    "scrolled": false
   },
   "outputs": [
    {
     "data": {
      "text/html": [
       "<div>\n",
       "<style scoped>\n",
       "    .dataframe tbody tr th:only-of-type {\n",
       "        vertical-align: middle;\n",
       "    }\n",
       "\n",
       "    .dataframe tbody tr th {\n",
       "        vertical-align: top;\n",
       "    }\n",
       "\n",
       "    .dataframe thead th {\n",
       "        text-align: right;\n",
       "    }\n",
       "</style>\n",
       "<table border=\"1\" class=\"dataframe\">\n",
       "  <thead>\n",
       "    <tr style=\"text-align: right;\">\n",
       "      <th></th>\n",
       "      <th>Gender_Male</th>\n",
       "      <th>Age</th>\n",
       "      <th>Total_Bilirubin</th>\n",
       "      <th>Direct_Bilirubin</th>\n",
       "      <th>Alkaline_Phosphotase</th>\n",
       "      <th>Alamine_Aminotransferase</th>\n",
       "      <th>Aspartate_Aminotransferase</th>\n",
       "      <th>Total_Protiens</th>\n",
       "      <th>Albumin</th>\n",
       "      <th>Albumin_and_Globulin_Ratio</th>\n",
       "      <th>Dataset</th>\n",
       "    </tr>\n",
       "  </thead>\n",
       "  <tbody>\n",
       "    <tr>\n",
       "      <th>0</th>\n",
       "      <td>0</td>\n",
       "      <td>65</td>\n",
       "      <td>0.7</td>\n",
       "      <td>0.1</td>\n",
       "      <td>187</td>\n",
       "      <td>16</td>\n",
       "      <td>18</td>\n",
       "      <td>6.8</td>\n",
       "      <td>3.3</td>\n",
       "      <td>0.90</td>\n",
       "      <td>1</td>\n",
       "    </tr>\n",
       "    <tr>\n",
       "      <th>1</th>\n",
       "      <td>1</td>\n",
       "      <td>62</td>\n",
       "      <td>10.9</td>\n",
       "      <td>5.5</td>\n",
       "      <td>699</td>\n",
       "      <td>64</td>\n",
       "      <td>100</td>\n",
       "      <td>7.5</td>\n",
       "      <td>3.2</td>\n",
       "      <td>0.74</td>\n",
       "      <td>1</td>\n",
       "    </tr>\n",
       "    <tr>\n",
       "      <th>2</th>\n",
       "      <td>1</td>\n",
       "      <td>62</td>\n",
       "      <td>7.3</td>\n",
       "      <td>4.1</td>\n",
       "      <td>490</td>\n",
       "      <td>60</td>\n",
       "      <td>68</td>\n",
       "      <td>7.0</td>\n",
       "      <td>3.3</td>\n",
       "      <td>0.89</td>\n",
       "      <td>1</td>\n",
       "    </tr>\n",
       "    <tr>\n",
       "      <th>3</th>\n",
       "      <td>1</td>\n",
       "      <td>58</td>\n",
       "      <td>1.0</td>\n",
       "      <td>0.4</td>\n",
       "      <td>182</td>\n",
       "      <td>14</td>\n",
       "      <td>20</td>\n",
       "      <td>6.8</td>\n",
       "      <td>3.4</td>\n",
       "      <td>1.00</td>\n",
       "      <td>1</td>\n",
       "    </tr>\n",
       "    <tr>\n",
       "      <th>4</th>\n",
       "      <td>1</td>\n",
       "      <td>72</td>\n",
       "      <td>3.9</td>\n",
       "      <td>2.0</td>\n",
       "      <td>195</td>\n",
       "      <td>27</td>\n",
       "      <td>59</td>\n",
       "      <td>7.3</td>\n",
       "      <td>2.4</td>\n",
       "      <td>0.40</td>\n",
       "      <td>1</td>\n",
       "    </tr>\n",
       "  </tbody>\n",
       "</table>\n",
       "</div>"
      ],
      "text/plain": [
       "   Gender_Male  Age  Total_Bilirubin  Direct_Bilirubin  Alkaline_Phosphotase  \\\n",
       "0            0   65              0.7               0.1                   187   \n",
       "1            1   62             10.9               5.5                   699   \n",
       "2            1   62              7.3               4.1                   490   \n",
       "3            1   58              1.0               0.4                   182   \n",
       "4            1   72              3.9               2.0                   195   \n",
       "\n",
       "   Alamine_Aminotransferase  Aspartate_Aminotransferase  Total_Protiens  \\\n",
       "0                        16                          18             6.8   \n",
       "1                        64                         100             7.5   \n",
       "2                        60                          68             7.0   \n",
       "3                        14                          20             6.8   \n",
       "4                        27                          59             7.3   \n",
       "\n",
       "   Albumin  Albumin_and_Globulin_Ratio  Dataset  \n",
       "0      3.3                        0.90        1  \n",
       "1      3.2                        0.74        1  \n",
       "2      3.3                        0.89        1  \n",
       "3      3.4                        1.00        1  \n",
       "4      2.4                        0.40        1  "
      ]
     },
     "execution_count": 11,
     "metadata": {},
     "output_type": "execute_result"
    }
   ],
   "source": [
    "new=pd.concat([dum,nc],axis=1)\n",
    "new.head()"
   ]
  },
  {
   "cell_type": "code",
   "execution_count": 33,
   "metadata": {},
   "outputs": [],
   "source": [
    "#X=new.iloc[:,[4,5]]\n",
    "#y=new.iloc[:,10]\n",
    "X=ladka.iloc[:,[4,5,6]]\n",
    "y=ladka.iloc[:,10]"
   ]
  },
  {
   "cell_type": "code",
   "execution_count": 31,
   "metadata": {},
   "outputs": [],
   "source": [
    "ladka=data[data['Gender']=='Male']"
   ]
  },
  {
   "cell_type": "code",
   "execution_count": 32,
   "metadata": {},
   "outputs": [
    {
     "data": {
      "text/html": [
       "<div>\n",
       "<style scoped>\n",
       "    .dataframe tbody tr th:only-of-type {\n",
       "        vertical-align: middle;\n",
       "    }\n",
       "\n",
       "    .dataframe tbody tr th {\n",
       "        vertical-align: top;\n",
       "    }\n",
       "\n",
       "    .dataframe thead th {\n",
       "        text-align: right;\n",
       "    }\n",
       "</style>\n",
       "<table border=\"1\" class=\"dataframe\">\n",
       "  <thead>\n",
       "    <tr style=\"text-align: right;\">\n",
       "      <th></th>\n",
       "      <th>Age</th>\n",
       "      <th>Gender</th>\n",
       "      <th>Total_Bilirubin</th>\n",
       "      <th>Direct_Bilirubin</th>\n",
       "      <th>Alkaline_Phosphotase</th>\n",
       "      <th>Alamine_Aminotransferase</th>\n",
       "      <th>Aspartate_Aminotransferase</th>\n",
       "      <th>Total_Protiens</th>\n",
       "      <th>Albumin</th>\n",
       "      <th>Albumin_and_Globulin_Ratio</th>\n",
       "      <th>Dataset</th>\n",
       "    </tr>\n",
       "  </thead>\n",
       "  <tbody>\n",
       "    <tr>\n",
       "      <th>1</th>\n",
       "      <td>62</td>\n",
       "      <td>Male</td>\n",
       "      <td>10.9</td>\n",
       "      <td>5.5</td>\n",
       "      <td>699</td>\n",
       "      <td>64</td>\n",
       "      <td>100</td>\n",
       "      <td>7.5</td>\n",
       "      <td>3.2</td>\n",
       "      <td>0.74</td>\n",
       "      <td>1</td>\n",
       "    </tr>\n",
       "    <tr>\n",
       "      <th>2</th>\n",
       "      <td>62</td>\n",
       "      <td>Male</td>\n",
       "      <td>7.3</td>\n",
       "      <td>4.1</td>\n",
       "      <td>490</td>\n",
       "      <td>60</td>\n",
       "      <td>68</td>\n",
       "      <td>7.0</td>\n",
       "      <td>3.3</td>\n",
       "      <td>0.89</td>\n",
       "      <td>1</td>\n",
       "    </tr>\n",
       "    <tr>\n",
       "      <th>3</th>\n",
       "      <td>58</td>\n",
       "      <td>Male</td>\n",
       "      <td>1.0</td>\n",
       "      <td>0.4</td>\n",
       "      <td>182</td>\n",
       "      <td>14</td>\n",
       "      <td>20</td>\n",
       "      <td>6.8</td>\n",
       "      <td>3.4</td>\n",
       "      <td>1.00</td>\n",
       "      <td>1</td>\n",
       "    </tr>\n",
       "    <tr>\n",
       "      <th>4</th>\n",
       "      <td>72</td>\n",
       "      <td>Male</td>\n",
       "      <td>3.9</td>\n",
       "      <td>2.0</td>\n",
       "      <td>195</td>\n",
       "      <td>27</td>\n",
       "      <td>59</td>\n",
       "      <td>7.3</td>\n",
       "      <td>2.4</td>\n",
       "      <td>0.40</td>\n",
       "      <td>1</td>\n",
       "    </tr>\n",
       "    <tr>\n",
       "      <th>5</th>\n",
       "      <td>46</td>\n",
       "      <td>Male</td>\n",
       "      <td>1.8</td>\n",
       "      <td>0.7</td>\n",
       "      <td>208</td>\n",
       "      <td>19</td>\n",
       "      <td>14</td>\n",
       "      <td>7.6</td>\n",
       "      <td>4.4</td>\n",
       "      <td>1.30</td>\n",
       "      <td>1</td>\n",
       "    </tr>\n",
       "  </tbody>\n",
       "</table>\n",
       "</div>"
      ],
      "text/plain": [
       "   Age Gender  Total_Bilirubin  Direct_Bilirubin  Alkaline_Phosphotase  \\\n",
       "1   62   Male             10.9               5.5                   699   \n",
       "2   62   Male              7.3               4.1                   490   \n",
       "3   58   Male              1.0               0.4                   182   \n",
       "4   72   Male              3.9               2.0                   195   \n",
       "5   46   Male              1.8               0.7                   208   \n",
       "\n",
       "   Alamine_Aminotransferase  Aspartate_Aminotransferase  Total_Protiens  \\\n",
       "1                        64                         100             7.5   \n",
       "2                        60                          68             7.0   \n",
       "3                        14                          20             6.8   \n",
       "4                        27                          59             7.3   \n",
       "5                        19                          14             7.6   \n",
       "\n",
       "   Albumin  Albumin_and_Globulin_Ratio  Dataset  \n",
       "1      3.2                        0.74        1  \n",
       "2      3.3                        0.89        1  \n",
       "3      3.4                        1.00        1  \n",
       "4      2.4                        0.40        1  \n",
       "5      4.4                        1.30        1  "
      ]
     },
     "execution_count": 32,
     "metadata": {},
     "output_type": "execute_result"
    }
   ],
   "source": [
    "ladka.head()"
   ]
  },
  {
   "cell_type": "code",
   "execution_count": 34,
   "metadata": {},
   "outputs": [],
   "source": [
    "from sklearn.model_selection import train_test_split\n",
    "X_train,X_test,y_train,y_test=train_test_split(X,y,test_size=0.30)"
   ]
  },
  {
   "cell_type": "code",
   "execution_count": 35,
   "metadata": {},
   "outputs": [],
   "source": [
    "from sklearn.linear_model import LogisticRegression\n",
    "from sklearn.tree import DecisionTreeClassifier\n",
    "from sklearn.ensemble import RandomForestClassifier\n",
    "from sklearn.svm import SVC\n",
    "from sklearn.metrics import accuracy_score\n",
    "from xgboost import XGBClassifier\n",
    "from sklearn.model_selection import cross_val_score"
   ]
  },
  {
   "cell_type": "code",
   "execution_count": 36,
   "metadata": {},
   "outputs": [],
   "source": [
    "def afzal(X_train,y_train,X_test,y_test):\n",
    "    models=[LogisticRegression(),DecisionTreeClassifier(),RandomForestClassifier(n_estimators=300),SVC(kernel='rbf'),XGBClassifier()]\n",
    "    for model in models:\n",
    "        model.fit(X_train,y_train)\n",
    "        pred=model.predict(X_test)\n",
    "        print(accuracy_score(y_test,pred))"
   ]
  },
  {
   "cell_type": "code",
   "execution_count": 37,
   "metadata": {},
   "outputs": [
    {
     "name": "stdout",
     "output_type": "stream",
     "text": [
      "0.7368421052631579\n",
      "0.6466165413533834\n",
      "0.7142857142857143\n",
      "0.7368421052631579\n",
      "0.7218045112781954\n"
     ]
    }
   ],
   "source": [
    "afzal(X_train,y_train,X_test,y_test)"
   ]
  },
  {
   "cell_type": "code",
   "execution_count": null,
   "metadata": {},
   "outputs": [],
   "source": []
  },
  {
   "cell_type": "code",
   "execution_count": 38,
   "metadata": {},
   "outputs": [
    {
     "name": "stdout",
     "output_type": "stream",
     "text": [
      "0.7368421052631579\n"
     ]
    }
   ],
   "source": [
    "classifier = LogisticRegression(random_state=45)\n",
    "classifier.fit(X_train, y_train)\n",
    "pred=classifier.predict(X_test)\n",
    "print(accuracy_score(y_test,pred))"
   ]
  },
  {
   "cell_type": "code",
   "execution_count": 39,
   "metadata": {},
   "outputs": [
    {
     "name": "stdout",
     "output_type": "stream",
     "text": [
      "[0.72727273 0.71428571 0.71428571 0.71428571 0.71428571 0.71428571\n",
      " 0.71428571 0.75       0.75       0.75       0.75       0.75\n",
      " 0.7        0.75       0.75      ]\n"
     ]
    }
   ],
   "source": [
    "accuracies = cross_val_score(estimator = classifier, X = X_train, y = y_train, cv = 15)\n",
    "print(accuracies)"
   ]
  },
  {
   "cell_type": "code",
   "execution_count": 40,
   "metadata": {},
   "outputs": [
    {
     "data": {
      "text/plain": [
       "0.018579247387882046"
      ]
     },
     "execution_count": 40,
     "metadata": {},
     "output_type": "execute_result"
    }
   ],
   "source": [
    "accuracies.std()"
   ]
  },
  {
   "cell_type": "code",
   "execution_count": 41,
   "metadata": {},
   "outputs": [
    {
     "data": {
      "text/plain": [
       "0.7308658008658008"
      ]
     },
     "execution_count": 41,
     "metadata": {},
     "output_type": "execute_result"
    }
   ],
   "source": [
    "accuracies.mean()"
   ]
  },
  {
   "cell_type": "code",
   "execution_count": 15,
   "metadata": {},
   "outputs": [
    {
     "data": {
      "text/html": [
       "<div>\n",
       "<style scoped>\n",
       "    .dataframe tbody tr th:only-of-type {\n",
       "        vertical-align: middle;\n",
       "    }\n",
       "\n",
       "    .dataframe tbody tr th {\n",
       "        vertical-align: top;\n",
       "    }\n",
       "\n",
       "    .dataframe thead th {\n",
       "        text-align: right;\n",
       "    }\n",
       "</style>\n",
       "<table border=\"1\" class=\"dataframe\">\n",
       "  <thead>\n",
       "    <tr style=\"text-align: right;\">\n",
       "      <th></th>\n",
       "      <th>Age</th>\n",
       "      <th>Total_Bilirubin</th>\n",
       "      <th>Direct_Bilirubin</th>\n",
       "      <th>Alkaline_Phosphotase</th>\n",
       "      <th>Alamine_Aminotransferase</th>\n",
       "      <th>Aspartate_Aminotransferase</th>\n",
       "      <th>Total_Protiens</th>\n",
       "      <th>Albumin</th>\n",
       "      <th>Albumin_and_Globulin_Ratio</th>\n",
       "      <th>Dataset</th>\n",
       "    </tr>\n",
       "  </thead>\n",
       "  <tbody>\n",
       "    <tr>\n",
       "      <th>count</th>\n",
       "      <td>583.000000</td>\n",
       "      <td>583.000000</td>\n",
       "      <td>583.000000</td>\n",
       "      <td>583.000000</td>\n",
       "      <td>583.000000</td>\n",
       "      <td>583.000000</td>\n",
       "      <td>583.000000</td>\n",
       "      <td>583.000000</td>\n",
       "      <td>583.000000</td>\n",
       "      <td>583.000000</td>\n",
       "    </tr>\n",
       "    <tr>\n",
       "      <th>mean</th>\n",
       "      <td>44.746141</td>\n",
       "      <td>3.298799</td>\n",
       "      <td>1.486106</td>\n",
       "      <td>290.576329</td>\n",
       "      <td>80.713551</td>\n",
       "      <td>109.910806</td>\n",
       "      <td>6.483190</td>\n",
       "      <td>3.141852</td>\n",
       "      <td>0.947064</td>\n",
       "      <td>1.286449</td>\n",
       "    </tr>\n",
       "    <tr>\n",
       "      <th>std</th>\n",
       "      <td>16.189833</td>\n",
       "      <td>6.209522</td>\n",
       "      <td>2.808498</td>\n",
       "      <td>242.937989</td>\n",
       "      <td>182.620356</td>\n",
       "      <td>288.918529</td>\n",
       "      <td>1.085451</td>\n",
       "      <td>0.795519</td>\n",
       "      <td>0.318492</td>\n",
       "      <td>0.452490</td>\n",
       "    </tr>\n",
       "    <tr>\n",
       "      <th>min</th>\n",
       "      <td>4.000000</td>\n",
       "      <td>0.400000</td>\n",
       "      <td>0.100000</td>\n",
       "      <td>63.000000</td>\n",
       "      <td>10.000000</td>\n",
       "      <td>10.000000</td>\n",
       "      <td>2.700000</td>\n",
       "      <td>0.900000</td>\n",
       "      <td>0.300000</td>\n",
       "      <td>1.000000</td>\n",
       "    </tr>\n",
       "    <tr>\n",
       "      <th>25%</th>\n",
       "      <td>33.000000</td>\n",
       "      <td>0.800000</td>\n",
       "      <td>0.200000</td>\n",
       "      <td>175.500000</td>\n",
       "      <td>23.000000</td>\n",
       "      <td>25.000000</td>\n",
       "      <td>5.800000</td>\n",
       "      <td>2.600000</td>\n",
       "      <td>0.700000</td>\n",
       "      <td>1.000000</td>\n",
       "    </tr>\n",
       "    <tr>\n",
       "      <th>50%</th>\n",
       "      <td>45.000000</td>\n",
       "      <td>1.000000</td>\n",
       "      <td>0.300000</td>\n",
       "      <td>208.000000</td>\n",
       "      <td>35.000000</td>\n",
       "      <td>42.000000</td>\n",
       "      <td>6.600000</td>\n",
       "      <td>3.100000</td>\n",
       "      <td>0.947064</td>\n",
       "      <td>1.000000</td>\n",
       "    </tr>\n",
       "    <tr>\n",
       "      <th>75%</th>\n",
       "      <td>58.000000</td>\n",
       "      <td>2.600000</td>\n",
       "      <td>1.300000</td>\n",
       "      <td>298.000000</td>\n",
       "      <td>60.500000</td>\n",
       "      <td>87.000000</td>\n",
       "      <td>7.200000</td>\n",
       "      <td>3.800000</td>\n",
       "      <td>1.100000</td>\n",
       "      <td>2.000000</td>\n",
       "    </tr>\n",
       "    <tr>\n",
       "      <th>max</th>\n",
       "      <td>90.000000</td>\n",
       "      <td>75.000000</td>\n",
       "      <td>19.700000</td>\n",
       "      <td>2110.000000</td>\n",
       "      <td>2000.000000</td>\n",
       "      <td>4929.000000</td>\n",
       "      <td>9.600000</td>\n",
       "      <td>5.500000</td>\n",
       "      <td>2.800000</td>\n",
       "      <td>2.000000</td>\n",
       "    </tr>\n",
       "  </tbody>\n",
       "</table>\n",
       "</div>"
      ],
      "text/plain": [
       "              Age  Total_Bilirubin  Direct_Bilirubin  Alkaline_Phosphotase  \\\n",
       "count  583.000000       583.000000        583.000000            583.000000   \n",
       "mean    44.746141         3.298799          1.486106            290.576329   \n",
       "std     16.189833         6.209522          2.808498            242.937989   \n",
       "min      4.000000         0.400000          0.100000             63.000000   \n",
       "25%     33.000000         0.800000          0.200000            175.500000   \n",
       "50%     45.000000         1.000000          0.300000            208.000000   \n",
       "75%     58.000000         2.600000          1.300000            298.000000   \n",
       "max     90.000000        75.000000         19.700000           2110.000000   \n",
       "\n",
       "       Alamine_Aminotransferase  Aspartate_Aminotransferase  Total_Protiens  \\\n",
       "count                583.000000                  583.000000      583.000000   \n",
       "mean                  80.713551                  109.910806        6.483190   \n",
       "std                  182.620356                  288.918529        1.085451   \n",
       "min                   10.000000                   10.000000        2.700000   \n",
       "25%                   23.000000                   25.000000        5.800000   \n",
       "50%                   35.000000                   42.000000        6.600000   \n",
       "75%                   60.500000                   87.000000        7.200000   \n",
       "max                 2000.000000                 4929.000000        9.600000   \n",
       "\n",
       "          Albumin  Albumin_and_Globulin_Ratio     Dataset  \n",
       "count  583.000000                  583.000000  583.000000  \n",
       "mean     3.141852                    0.947064    1.286449  \n",
       "std      0.795519                    0.318492    0.452490  \n",
       "min      0.900000                    0.300000    1.000000  \n",
       "25%      2.600000                    0.700000    1.000000  \n",
       "50%      3.100000                    0.947064    1.000000  \n",
       "75%      3.800000                    1.100000    2.000000  \n",
       "max      5.500000                    2.800000    2.000000  "
      ]
     },
     "execution_count": 15,
     "metadata": {},
     "output_type": "execute_result"
    }
   ],
   "source": [
    "data.describe()"
   ]
  },
  {
   "cell_type": "code",
   "execution_count": 16,
   "metadata": {},
   "outputs": [
    {
     "data": {
      "text/plain": [
       "<matplotlib.axes._subplots.AxesSubplot at 0x7fd1ca5a4208>"
      ]
     },
     "execution_count": 16,
     "metadata": {},
     "output_type": "execute_result"
    },
    {
     "data": {
      "image/png": "[encoded data removed]",
      "text/plain": [
       "<Figure size 432x288 with 1 Axes>"
      ]
     },
     "metadata": {
      "needs_background": "light"
     },
     "output_type": "display_data"
    }
   ],
   "source": [
    "sns.countplot(x='Gender',data=data)"
   ]
  },
  {
   "cell_type": "code",
   "execution_count": 27,
   "metadata": {},
   "outputs": [],
   "source": [
    "import warnings\n",
    "warnings.filterwarnings('ignore')"
   ]
  },
  {
   "cell_type": "code",
   "execution_count": 17,
   "metadata": {},
   "outputs": [
    {
     "data": {
      "text/html": [
       "        <script type=\"text/javascript\">\n",
       "        window.PlotlyConfig = {MathJaxConfig: 'local'};\n",
       "        if (window.MathJax) {MathJax.Hub.Config({SVG: {font: \"STIX-Web\"}});}\n",
       "        if (typeof require !== 'undefined') {\n",
       "        require.undef(\"plotly\");\n",
       "        requirejs.config({\n",
       "            paths: {\n",
       "                'plotly': ['https://cdn.plot.ly/plotly-latest.min']\n",
       "            }\n",
       "        });\n",
       "        require(['plotly'], function(Plotly) {\n",
       "            window._Plotly = Plotly;\n",
       "        });\n",
       "        }\n",
       "        </script>\n",
       "        "
      ]
     },
     "metadata": {},
     "output_type": "display_data"
    }
   ],
   "source": [
    "import plotly.offline as py\n",
    "py.init_notebook_mode(connected=True)\n",
    "import plotly.graph_objs as go\n",
    "import plotly.tools as tls"
   ]
  },
  {
   "cell_type": "code",
   "execution_count": 18,
   "metadata": {},
   "outputs": [],
   "source": [
    "trace = go.Scatter(\n",
    "    y = data['Total_Protiens'].values,\n",
    "    x = data['Age'].values,\n",
    "    mode='markers',\n",
    "    \n",
    "    marker=dict(\n",
    "        size= data['Total_Bilirubin'].values,\n",
    "        color = data['Total_Protiens'].values,\n",
    "        colorscale='Portland',\n",
    "        showscale=True\n",
    "    ),\n",
    "    text = data['Dataset'].values\n",
    ")"
   ]
  },
  {
   "cell_type": "code",
   "execution_count": 19,
   "metadata": {},
   "outputs": [],
   "source": [
    "x=[trace]"
   ]
  },
  {
   "cell_type": "code",
   "execution_count": 20,
   "metadata": {},
   "outputs": [],
   "source": [
    "layout= go.Layout(\n",
    "    autosize= True,\n",
    "    title= 'Scatter plot of Total Proteins in Male and Females',\n",
    "    hovermode= 'closest',\n",
    "    yaxis=dict(\n",
    "        title= 'Total Protein',\n",
    "        ticklen= 10,\n",
    "        gridwidth= 0.1,\n",
    "    ),xaxis=dict(\n",
    "        title= 'Age',\n",
    "        ticklen= 10,\n",
    "        gridwidth= 0.1,\n",
    "    ),\n",
    "    showlegend= False\n",
    ")"
   ]
  },
  {
   "cell_type": "code",
   "execution_count": 43,
   "metadata": {
    "scrolled": false
   },
   "outputs": [
    {
     "data": {
      "application/vnd.plotly.v1+json": {
       "config": {
        "linkText": "Export to plot.ly",
        "plotlyServerURL": "https://plot.ly",
        "showLink": false
       },
       "data": [
        {
         "marker": {
          "color": [
           6.8,
           7.5,
           7,
           6.8,
           7.3,
           7.6,
           7,
           6.7,
           7.4,
           6.8,
           5.9,
           7.4,
           7,
           8.1,
           5.8,
           5.5,
           7.6,
           7.3,
           6.8,
           6.8,
           7.3,
           7,
           6.4,
           4.3,
           6,
           5,
           5,
           7.2,
           3.9,
           6,
           5.2,
           4.9,
           5.2,
           5.6,
           5.6,
           6.9,
           7.2,
           4.3,
           5.8,
           6.2,
           5.1,
           4.9,
           6.1,
           6.4,
           7,
           6.5,
           6.8,
           4.9,
           6,
           6.2,
           5.7,
           6.6,
           6.8,
           6.3,
           5.8,
           5.8,
           8,
           5.5,
           5.2,
           5.5,
           6,
           7.2,
           7.2,
           5.1,
           6.5,
           5.6,
           6,
           6.4,
           6.3,
           6.3,
           5.5,
           4.4,
           4.4,
           6.6,
           5.8,
           5.2,
           5.3,
           4.6,
           6.2,
           4.7,
           4.7,
           5.1,
           5.4,
           5.4,
           7.5,
           6.7,
           7.2,
           6.2,
           7.5,
           7.1,
           7.3,
           6.8,
           7.4,
           7,
           6.8,
           4.4,
           7.1,
           4,
           5.9,
           6.9,
           3.7,
           5.3,
           6.9,
           6.1,
           5.5,
           5.1,
           5.1,
           6,
           6,
           5.9,
           5.5,
           5.7,
           6.1,
           5,
           5.7,
           5.6,
           5.3,
           5.7,
           5.6,
           5.4,
           7.1,
           6.6,
           5.9,
           6.3,
           6.9,
           3.9,
           6,
           6.5,
           8,
           5.1,
           6,
           5.8,
           6.5,
           6.6,
           6.8,
           7,
           6.4,
           5.5,
           5.5,
           6.1,
           6.2,
           7.1,
           5.6,
           5.6,
           5.6,
           5.4,
           5.5,
           5.3,
           7.2,
           7.1,
           6.9,
           5.9,
           6,
           6.5,
           5.6,
           5.8,
           6.2,
           5.8,
           5.8,
           7.2,
           5.5,
           6.2,
           5.4,
           7.4,
           7.4,
           7,
           6.2,
           5.6,
           6.9,
           6.8,
           6.2,
           6.6,
           5,
           6,
           6,
           7.3,
           5.7,
           5.3,
           5.1,
           5.5,
           2.7,
           3,
           3.8,
           5.4,
           6.9,
           6,
           7.8,
           4,
           4.5,
           5.2,
           6.6,
           6.6,
           6.6,
           6,
           5.7,
           5.2,
           6,
           5.7,
           6.1,
           6.1,
           5,
           5,
           6.1,
           6.4,
           6.4,
           7.6,
           7,
           6.7,
           6.1,
           6.6,
           4.1,
           7,
           5.5,
           7.5,
           7.2,
           5,
           6.2,
           7,
           4.8,
           6.4,
           5,
           7.3,
           8,
           7.1,
           5.7,
           7.9,
           8,
           6.4,
           5.3,
           6,
           6.7,
           8.5,
           7.9,
           6.2,
           7.7,
           4.5,
           7.9,
           8,
           7.3,
           6.8,
           8,
           6.5,
           8.2,
           8.5,
           6.3,
           6.1,
           6.1,
           5.9,
           5,
           7,
           6.5,
           5.9,
           7,
           5.2,
           7.1,
           6,
           6.2,
           5.6,
           6.4,
           5.2,
           5.4,
           7.5,
           6.9,
           7,
           7.4,
           8,
           6.3,
           7.4,
           5.7,
           2.8,
           9.5,
           6.5,
           8.2,
           9.6,
           8,
           8.2,
           6.4,
           6,
           8,
           8.3,
           6,
           7.4,
           7,
           6,
           8,
           7.9,
           8.6,
           8,
           7.5,
           7,
           8.6,
           7.8,
           7.1,
           7.7,
           8.3,
           8,
           7.9,
           6.9,
           7.9,
           7.4,
           8.2,
           6.7,
           6.8,
           8.4,
           6.9,
           7.9,
           7.3,
           4.6,
           8.2,
           8,
           8.1,
           7.2,
           8.5,
           7.9,
           7.8,
           6.7,
           7.1,
           6.8,
           7.8,
           8.1,
           5.8,
           5.2,
           7.1,
           6.7,
           5.4,
           6.7,
           8.3,
           7.6,
           6,
           7.3,
           6.1,
           5.4,
           6.2,
           5.9,
           7.4,
           8.9,
           6.2,
           6.4,
           6.1,
           5.9,
           6.2,
           6.6,
           7,
           5.6,
           8.2,
           5.6,
           6.9,
           7,
           6.1,
           6.6,
           5.7,
           5.3,
           8.2,
           7.2,
           7.5,
           8,
           8.5,
           6.8,
           5.6,
           8.4,
           6.6,
           6.8,
           6.2,
           8.5,
           6.8,
           5.3,
           7.2,
           6.1,
           7.2,
           7,
           7.8,
           7.2,
           8.7,
           7.6,
           7,
           6.8,
           7,
           6.1,
           7.3,
           7.3,
           7.3,
           8.1,
           6.7,
           4.9,
           6.5,
           7.4,
           7.5,
           6.9,
           7.3,
           6.3,
           6,
           6.9,
           6.3,
           8,
           5.9,
           6.3,
           6.4,
           6.3,
           7.1,
           6,
           6.4,
           6.8,
           8.1,
           6.3,
           6.8,
           7.6,
           6.7,
           7.2,
           7.5,
           6.5,
           5,
           6.9,
           7.1,
           4.6,
           5.2,
           3.6,
           6.3,
           7.1,
           7,
           6.7,
           6.4,
           7.1,
           6.9,
           6.5,
           7,
           4.3,
           5.6,
           7,
           6.9,
           5.5,
           4.8,
           6.7,
           7.5,
           7.6,
           7.5,
           7.1,
           6.2,
           5.2,
           3.8,
           6.2,
           7,
           4.1,
           4.6,
           6.2,
           6.3,
           7.3,
           5.5,
           7.7,
           6,
           6.2,
           6,
           7.2,
           7.1,
           7.1,
           7,
           6.8,
           7.4,
           6.9,
           3.6,
           5.7,
           5.5,
           6.8,
           6.4,
           8,
           4.5,
           5.1,
           4.9,
           6.8,
           5.3,
           4.4,
           7.1,
           6.6,
           5.8,
           6.8,
           6,
           7.9,
           5.5,
           5.1,
           6.9,
           7.3,
           7.9,
           7.3,
           7.2,
           7.8,
           5,
           6.2,
           6.7,
           6,
           7,
           5.9,
           6.7,
           6.8,
           7.9,
           5.2,
           6.5,
           6.1,
           8,
           7.2,
           6.5,
           7.2,
           6,
           5.9,
           4.9,
           8.1,
           5.5,
           5.8,
           5.6,
           7.5,
           7.5,
           5.4,
           9.2,
           6.8,
           5.8,
           6.9,
           8.4,
           6.9,
           6.7,
           8,
           7.2,
           9.2,
           8.6,
           7.1,
           7.9,
           4.8,
           6.8,
           8,
           6.4,
           7.1,
           6.3,
           5.1,
           7,
           7.9,
           8.2,
           3.6,
           8,
           6.1,
           6.9,
           7.6,
           6.4,
           7.2,
           7,
           6.6,
           7.3,
           7.6,
           7,
           4.5,
           5.4,
           7.1,
           6.9,
           7.8,
           5.6,
           6.2,
           5.8,
           7,
           6.5,
           7,
           6.1,
           6.2,
           7.5,
           7.5,
           6.5,
           6.9,
           7.8,
           7.2,
           5.9,
           6.6,
           7.8,
           6,
           6.9,
           7.1,
           5.4,
           6.9,
           5.6,
           6.2,
           6.6,
           7.9,
           5.3,
           5.4,
           5.9,
           6,
           6.4,
           6.8,
           7.3
          ],
          "colorscale": [
           [
            0,
            "rgb(12,51,131)"
           ],
           [
            0.25,
            "rgb(10,136,186)"
           ],
           [
            0.5,
            "rgb(242,211,56)"
           ],
           [
            0.75,
            "rgb(242,143,56)"
           ],
           [
            1,
            "rgb(217,30,30)"
           ]
          ],
          "showscale": true,
          "size": [
           0.7,
           10.9,
           7.3,
           1,
           3.9,
           1.8,
           0.9,
           0.9,
           0.9,
           0.7,
           0.6,
           2.7,
           0.9,
           1.1,
           0.7,
           0.6,
           1.8,
           1.6,
           0.9,
           0.9,
           2.2,
           2.9,
           6.8,
           1.9,
           0.9,
           4.1,
           4.1,
           6.2,
           1.1,
           0.7,
           4,
           0.9,
           1,
           2.6,
           2.6,
           1.3,
           0.7,
           14.2,
           1.4,
           2.7,
           2.4,
           0.6,
           6.8,
           2.6,
           1,
           1.8,
           3.9,
           1.1,
           0.6,
           18.4,
           0.7,
           0.6,
           3.1,
           1.1,
           8.9,
           8.9,
           0.8,
           0.9,
           0.8,
           1.1,
           0.8,
           1,
           1,
           0.7,
           1.3,
           1.4,
           2.2,
           1.8,
           0.7,
           0.8,
           0.7,
           0.8,
           0.8,
           0.6,
           0.7,
           0.7,
           0.9,
           0.6,
           1.4,
           2.8,
           2.4,
           1,
           0.7,
           2,
           0.6,
           1.4,
           0.6,
           0.8,
           0.6,
           4,
           5.7,
           6.8,
           8.6,
           5.8,
           5.2,
           0.9,
           3.8,
           6.6,
           0.6,
           0.7,
           0.6,
           0.7,
           0.9,
           0.8,
           0.5,
           5.3,
           5.3,
           0.8,
           0.8,
           0.9,
           0.7,
           3.2,
           1.2,
           0.6,
           5.8,
           7.3,
           0.7,
           12.7,
           15.9,
           18,
           23,
           22.7,
           1.7,
           0.8,
           0.6,
           1.8,
           5.8,
           3,
           1.7,
           2.8,
           3.2,
           0.7,
           0.8,
           0.9,
           1.8,
           11.3,
           4.7,
           0.8,
           0.8,
           0.8,
           0.6,
           4.2,
           1.6,
           1.6,
           3.5,
           0.8,
           2.9,
           0.7,
           0.9,
           0.8,
           1.1,
           1.6,
           0.8,
           0.6,
           5.9,
           8.7,
           0.9,
           0.7,
           0.7,
           1.2,
           11,
           11.5,
           5.8,
           1.9,
           1.9,
           4.5,
           75,
           3,
           22.8,
           8.9,
           1.7,
           1.9,
           14.1,
           0.6,
           0.6,
           0.8,
           0.8,
           14.8,
           10.6,
           8,
           2.8,
           2.9,
           1.9,
           0.6,
           1.1,
           1.5,
           3.2,
           2.1,
           1.9,
           0.8,
           6.3,
           5.8,
           2.3,
           1.3,
           2,
           2.4,
           2,
           0.6,
           0.9,
           27.2,
           0.6,
           0.6,
           0.8,
           1,
           0.7,
           2.5,
           3.6,
           3.9,
           0.9,
           0.9,
           0.8,
           2.7,
           2.7,
           0.9,
           1.7,
           0.6,
           0.9,
           1.1,
           0.6,
           0.8,
           0.8,
           0.9,
           0.9,
           1.1,
           1.7,
           0.6,
           1.3,
           0.7,
           1,
           0.6,
           1.5,
           0.8,
           2.7,
           2,
           0.9,
           1.5,
           0.8,
           0.9,
           0.9,
           0.9,
           0.7,
           0.8,
           0.8,
           0.9,
           0.8,
           0.9,
           1.8,
           0.9,
           0.7,
           1.2,
           2.1,
           0.9,
           1.1,
           0.6,
           0.7,
           1.7,
           0.9,
           0.8,
           0.8,
           30.5,
           16.4,
           1.5,
           0.8,
           0.8,
           0.8,
           0.9,
           1.2,
           0.9,
           14.5,
           0.6,
           0.7,
           0.8,
           18.5,
           0.7,
           1.8,
           1.9,
           0.9,
           2,
           2.2,
           1,
           0.8,
           0.7,
           0.7,
           1.3,
           0.9,
           1.5,
           0.8,
           1.3,
           1,
           4.5,
           1,
           0.7,
           0.6,
           1.1,
           2.4,
           0.6,
           0.9,
           0.9,
           1.1,
           0.9,
           0.8,
           0.9,
           1.7,
           0.7,
           0.8,
           1.4,
           1.6,
           0.8,
           0.8,
           1.1,
           0.8,
           23.2,
           1.3,
           0.8,
           2,
           0.9,
           0.9,
           0.7,
           3.7,
           0.9,
           0.7,
           0.8,
           1.7,
           0.8,
           2.6,
           0.8,
           1.2,
           3.3,
           0.8,
           0.7,
           2,
           1.7,
           7.1,
           0.7,
           0.7,
           0.7,
           6.7,
           2.5,
           1.8,
           1.4,
           0.9,
           0.8,
           0.8,
           3.1,
           0.8,
           2.9,
           0.6,
           0.7,
           1.3,
           0.8,
           1.8,
           1.3,
           0.7,
           1.4,
           0.8,
           1.4,
           0.7,
           2.1,
           0.7,
           0.8,
           0.7,
           0.7,
           1.1,
           0.9,
           0.8,
           0.7,
           0.7,
           2.2,
           0.8,
           0.8,
           22.6,
           0.8,
           0.7,
           0.7,
           0.7,
           3.5,
           0.7,
           0.6,
           0.7,
           0.7,
           1.7,
           0.6,
           0.7,
           1.4,
           3.7,
           0.8,
           2.7,
           0.8,
           0.8,
           0.6,
           0.8,
           0.9,
           7.5,
           2.7,
           1,
           0.8,
           1,
           1,
           0.8,
           1,
           0.7,
           7.3,
           0.5,
           0.7,
           0.8,
           0.8,
           0.7,
           1,
           2.4,
           5,
           1.4,
           2.3,
           4.9,
           0.7,
           1.4,
           1.3,
           0.6,
           0.7,
           4.2,
           8.2,
           10.9,
           1,
           1.2,
           1.6,
           0.7,
           0.4,
           1.3,
           0.9,
           0.6,
           1.9,
           0.7,
           0.8,
           0.7,
           0.9,
           0.7,
           0.5,
           1,
           1.6,
           0.8,
           0.8,
           0.8,
           2.3,
           7.4,
           0.7,
           0.8,
           0.9,
           0.8,
           23.3,
           0.8,
           0.9,
           7.9,
           0.8,
           0.9,
           0.7,
           0.6,
           0.6,
           0.7,
           0.8,
           6.8,
           1.1,
           2.2,
           0.8,
           0.7,
           0.8,
           0.7,
           0.6,
           0.6,
           1,
           1,
           0.8,
           1.1,
           0.6,
           0.7,
           1,
           2,
           2.2,
           0.9,
           0.6,
           7.1,
           3.4,
           0.5,
           2.3,
           1.1,
           0.8,
           5,
           6.7,
           0.8,
           0.7,
           0.7,
           0.8,
           0.8,
           1,
           1,
           0.7,
           0.7,
           0.7,
           1,
           2.2,
           1.8,
           3.6,
           2.7,
           2.8,
           0.8,
           19.8,
           30.5,
           32.6,
           17.7,
           0.9,
           18.4,
           20,
           0.8,
           2.2,
           1,
           0.9,
           1,
           3.9,
           0.9,
           0.9,
           2.9,
           26.3,
           1.8,
           4.4,
           0.8,
           0.6,
           0.8,
           0.9,
           9.4,
           3.5,
           1.7,
           3.3,
           1.1,
           30.8,
           0.7,
           1.4,
           1.6,
           19.6,
           15.8,
           0.8,
           1.8,
           0.7,
           0.8,
           0.8,
           0.7,
           1.2,
           5.5,
           0.7,
           20.2,
           27.7,
           11.1,
           2.1,
           3.3,
           1.2,
           0.6,
           10.2,
           1.8,
           0.8,
           0.7,
           2.9,
           4,
           42.8,
           15.2,
           16.6,
           17.3,
           1.4,
           0.6,
           22.5,
           1,
           2.7,
           16.7,
           7.7,
           2.6,
           1.1,
           15.6,
           3.7,
           12.1,
           25,
           15,
           12.7,
           0.5,
           0.6,
           0.8,
           1.3,
           1
          ]
         },
         "mode": "markers",
         "text": [
          1,
          1,
          1,
          1,
          1,
          1,
          1,
          1,
          2,
          1,
          1,
          1,
          2,
          1,
          1,
          2,
          1,
          2,
          1,
          1,
          1,
          1,
          1,
          1,
          2,
          1,
          1,
          1,
          2,
          2,
          1,
          1,
          2,
          2,
          2,
          1,
          2,
          1,
          1,
          1,
          1,
          2,
          2,
          1,
          2,
          2,
          1,
          1,
          1,
          1,
          1,
          1,
          1,
          1,
          1,
          1,
          2,
          2,
          1,
          2,
          1,
          1,
          1,
          1,
          1,
          1,
          1,
          1,
          1,
          2,
          1,
          1,
          1,
          1,
          1,
          2,
          1,
          1,
          2,
          1,
          1,
          1,
          2,
          1,
          1,
          1,
          2,
          1,
          1,
          1,
          1,
          1,
          1,
          1,
          1,
          1,
          1,
          1,
          1,
          1,
          2,
          2,
          1,
          2,
          1,
          2,
          2,
          2,
          2,
          2,
          2,
          1,
          2,
          1,
          2,
          2,
          1,
          1,
          1,
          1,
          1,
          1,
          2,
          1,
          2,
          2,
          1,
          1,
          1,
          1,
          1,
          2,
          2,
          1,
          1,
          1,
          1,
          1,
          1,
          1,
          2,
          1,
          1,
          1,
          1,
          2,
          1,
          1,
          1,
          1,
          2,
          1,
          1,
          2,
          1,
          1,
          1,
          1,
          1,
          1,
          1,
          1,
          1,
          1,
          1,
          1,
          1,
          1,
          1,
          1,
          1,
          1,
          1,
          1,
          1,
          1,
          1,
          1,
          1,
          1,
          1,
          1,
          2,
          1,
          1,
          2,
          1,
          1,
          1,
          2,
          1,
          1,
          1,
          2,
          2,
          1,
          1,
          1,
          2,
          1,
          1,
          1,
          2,
          2,
          2,
          1,
          1,
          1,
          1,
          1,
          1,
          1,
          2,
          1,
          1,
          2,
          2,
          1,
          2,
          1,
          1,
          1,
          1,
          2,
          1,
          1,
          1,
          1,
          2,
          1,
          2,
          1,
          1,
          1,
          1,
          1,
          2,
          1,
          2,
          1,
          2,
          1,
          1,
          1,
          1,
          1,
          1,
          1,
          1,
          1,
          1,
          1,
          2,
          2,
          2,
          1,
          1,
          1,
          2,
          1,
          1,
          1,
          1,
          1,
          2,
          2,
          1,
          1,
          1,
          1,
          1,
          2,
          1,
          1,
          1,
          2,
          2,
          1,
          1,
          1,
          1,
          2,
          1,
          2,
          1,
          1,
          1,
          2,
          1,
          1,
          1,
          2,
          1,
          2,
          1,
          1,
          1,
          2,
          1,
          2,
          2,
          1,
          1,
          2,
          1,
          2,
          1,
          1,
          1,
          1,
          1,
          1,
          2,
          2,
          1,
          2,
          2,
          1,
          1,
          2,
          1,
          1,
          1,
          2,
          1,
          2,
          2,
          2,
          2,
          2,
          1,
          1,
          1,
          2,
          1,
          1,
          1,
          1,
          1,
          1,
          1,
          1,
          2,
          1,
          2,
          1,
          1,
          1,
          1,
          2,
          1,
          1,
          1,
          1,
          1,
          2,
          1,
          1,
          1,
          2,
          1,
          2,
          2,
          2,
          2,
          2,
          2,
          2,
          1,
          1,
          1,
          2,
          1,
          2,
          2,
          1,
          1,
          2,
          1,
          2,
          1,
          1,
          1,
          2,
          1,
          1,
          2,
          1,
          1,
          1,
          1,
          1,
          1,
          1,
          1,
          2,
          1,
          1,
          1,
          1,
          2,
          1,
          1,
          2,
          1,
          1,
          2,
          1,
          1,
          1,
          1,
          2,
          1,
          2,
          2,
          1,
          1,
          2,
          1,
          1,
          1,
          2,
          1,
          2,
          1,
          1,
          2,
          1,
          2,
          1,
          1,
          2,
          1,
          2,
          2,
          2,
          1,
          1,
          1,
          1,
          1,
          1,
          1,
          1,
          2,
          2,
          1,
          1,
          1,
          1,
          1,
          1,
          1,
          1,
          2,
          1,
          2,
          2,
          1,
          1,
          1,
          1,
          1,
          1,
          2,
          2,
          2,
          2,
          1,
          1,
          1,
          2,
          2,
          2,
          2,
          2,
          1,
          1,
          1,
          1,
          2,
          1,
          1,
          2,
          1,
          1,
          1,
          1,
          2,
          2,
          1,
          2,
          1,
          2,
          1,
          2,
          1,
          1,
          1,
          1,
          1,
          1,
          1,
          1,
          1,
          1,
          1,
          1,
          1,
          1,
          2,
          1,
          2,
          1,
          1,
          1,
          1,
          1,
          1,
          1,
          1,
          1,
          1,
          1,
          2,
          2,
          1,
          1,
          1,
          1,
          2,
          1,
          2,
          1,
          2,
          1,
          1,
          1,
          1,
          2,
          2,
          2,
          2,
          1,
          1,
          2,
          1,
          1,
          1,
          1,
          1,
          2,
          1,
          1,
          1,
          1,
          1,
          1,
          1,
          1,
          1,
          1,
          1,
          1,
          2,
          1,
          2,
          1,
          1,
          1,
          1,
          1,
          1,
          1,
          1,
          1,
          1,
          1,
          2,
          1,
          1,
          1,
          2
         ],
         "type": "scatter",
         "x": [
          65,
          62,
          62,
          58,
          72,
          46,
          26,
          29,
          17,
          55,
          57,
          72,
          64,
          74,
          61,
          25,
          38,
          33,
          40,
          40,
          51,
          51,
          62,
          40,
          63,
          34,
          34,
          34,
          20,
          84,
          57,
          52,
          57,
          38,
          38,
          30,
          17,
          46,
          48,
          47,
          45,
          62,
          42,
          50,
          85,
          35,
          21,
          40,
          32,
          55,
          45,
          34,
          38,
          38,
          42,
          42,
          33,
          48,
          51,
          64,
          31,
          58,
          58,
          57,
          57,
          57,
          54,
          37,
          66,
          60,
          19,
          75,
          75,
          52,
          68,
          29,
          31,
          68,
          70,
          58,
          58,
          29,
          49,
          33,
          32,
          14,
          13,
          58,
          18,
          60,
          60,
          60,
          60,
          60,
          60,
          75,
          39,
          39,
          18,
          18,
          27,
          27,
          17,
          55,
          63,
          36,
          36,
          36,
          36,
          36,
          24,
          48,
          27,
          74,
          50,
          50,
          48,
          32,
          32,
          32,
          32,
          32,
          58,
          64,
          28,
          60,
          48,
          64,
          58,
          45,
          45,
          70,
          18,
          53,
          18,
          66,
          46,
          18,
          18,
          15,
          60,
          66,
          30,
          30,
          45,
          65,
          66,
          65,
          50,
          60,
          56,
          50,
          46,
          52,
          34,
          34,
          32,
          72,
          72,
          50,
          60,
          60,
          60,
          39,
          39,
          48,
          55,
          47,
          60,
          60,
          72,
          44,
          55,
          31,
          31,
          31,
          55,
          75,
          75,
          75,
          75,
          75,
          65,
          40,
          64,
          38,
          60,
          60,
          60,
          48,
          60,
          60,
          60,
          49,
          49,
          60,
          60,
          26,
          41,
          7,
          49,
          49,
          38,
          21,
          21,
          45,
          40,
          40,
          70,
          45,
          28,
          42,
          22,
          8,
          38,
          66,
          55,
          49,
          6,
          37,
          37,
          47,
          47,
          50,
          70,
          26,
          26,
          68,
          65,
          46,
          61,
          61,
          50,
          33,
          40,
          60,
          22,
          35,
          35,
          40,
          48,
          51,
          29,
          28,
          54,
          54,
          55,
          55,
          40,
          33,
          33,
          33,
          65,
          35,
          38,
          38,
          50,
          44,
          36,
          42,
          42,
          33,
          18,
          38,
          38,
          4,
          62,
          43,
          40,
          26,
          37,
          4,
          21,
          30,
          33,
          26,
          35,
          60,
          45,
          48,
          58,
          50,
          50,
          18,
          18,
          13,
          34,
          43,
          50,
          57,
          45,
          60,
          45,
          23,
          22,
          22,
          74,
          25,
          31,
          24,
          58,
          51,
          50,
          50,
          55,
          54,
          48,
          30,
          45,
          48,
          51,
          54,
          27,
          30,
          26,
          22,
          44,
          35,
          38,
          14,
          30,
          30,
          36,
          12,
          60,
          42,
          36,
          24,
          43,
          21,
          26,
          26,
          26,
          36,
          13,
          13,
          75,
          75,
          75,
          75,
          75,
          36,
          35,
          70,
          37,
          60,
          46,
          38,
          70,
          49,
          37,
          37,
          26,
          48,
          48,
          19,
          33,
          33,
          37,
          69,
          24,
          65,
          55,
          42,
          21,
          40,
          16,
          60,
          42,
          58,
          54,
          33,
          48,
          25,
          56,
          47,
          33,
          20,
          50,
          72,
          50,
          39,
          58,
          60,
          34,
          50,
          38,
          51,
          46,
          72,
          72,
          75,
          41,
          41,
          48,
          45,
          74,
          78,
          38,
          27,
          66,
          50,
          42,
          65,
          22,
          31,
          45,
          12,
          48,
          48,
          18,
          23,
          65,
          48,
          65,
          70,
          70,
          11,
          50,
          55,
          55,
          26,
          41,
          53,
          32,
          58,
          45,
          65,
          52,
          73,
          53,
          47,
          29,
          41,
          30,
          17,
          23,
          35,
          65,
          42,
          49,
          42,
          42,
          42,
          61,
          17,
          54,
          45,
          48,
          48,
          65,
          35,
          58,
          46,
          28,
          21,
          32,
          61,
          26,
          65,
          22,
          28,
          38,
          25,
          45,
          45,
          28,
          28,
          66,
          66,
          66,
          49,
          42,
          42,
          35,
          38,
          38,
          55,
          33,
          33,
          7,
          45,
          45,
          30,
          62,
          22,
          42,
          32,
          60,
          65,
          53,
          27,
          35,
          65,
          25,
          32,
          24,
          67,
          68,
          55,
          70,
          36,
          42,
          53,
          32,
          32,
          56,
          50,
          46,
          46,
          37,
          45,
          56,
          69,
          49,
          49,
          60,
          28,
          45,
          35,
          62,
          55,
          46,
          50,
          29,
          53,
          46,
          40,
          45,
          55,
          22,
          40,
          62,
          46,
          39,
          60,
          46,
          10,
          52,
          65,
          42,
          42,
          62,
          40,
          54,
          45,
          45,
          50,
          42,
          40,
          46,
          29,
          45,
          46,
          73,
          55,
          51,
          51,
          51,
          26,
          66,
          66,
          66,
          64,
          38,
          43,
          50,
          52,
          20,
          16,
          16,
          90,
          32,
          32,
          32,
          32,
          32,
          32,
          60,
          40,
          52,
          31,
          38
         ],
         "y": [
          6.8,
          7.5,
          7,
          6.8,
          7.3,
          7.6,
          7,
          6.7,
          7.4,
          6.8,
          5.9,
          7.4,
          7,
          8.1,
          5.8,
          5.5,
          7.6,
          7.3,
          6.8,
          6.8,
          7.3,
          7,
          6.4,
          4.3,
          6,
          5,
          5,
          7.2,
          3.9,
          6,
          5.2,
          4.9,
          5.2,
          5.6,
          5.6,
          6.9,
          7.2,
          4.3,
          5.8,
          6.2,
          5.1,
          4.9,
          6.1,
          6.4,
          7,
          6.5,
          6.8,
          4.9,
          6,
          6.2,
          5.7,
          6.6,
          6.8,
          6.3,
          5.8,
          5.8,
          8,
          5.5,
          5.2,
          5.5,
          6,
          7.2,
          7.2,
          5.1,
          6.5,
          5.6,
          6,
          6.4,
          6.3,
          6.3,
          5.5,
          4.4,
          4.4,
          6.6,
          5.8,
          5.2,
          5.3,
          4.6,
          6.2,
          4.7,
          4.7,
          5.1,
          5.4,
          5.4,
          7.5,
          6.7,
          7.2,
          6.2,
          7.5,
          7.1,
          7.3,
          6.8,
          7.4,
          7,
          6.8,
          4.4,
          7.1,
          4,
          5.9,
          6.9,
          3.7,
          5.3,
          6.9,
          6.1,
          5.5,
          5.1,
          5.1,
          6,
          6,
          5.9,
          5.5,
          5.7,
          6.1,
          5,
          5.7,
          5.6,
          5.3,
          5.7,
          5.6,
          5.4,
          7.1,
          6.6,
          5.9,
          6.3,
          6.9,
          3.9,
          6,
          6.5,
          8,
          5.1,
          6,
          5.8,
          6.5,
          6.6,
          6.8,
          7,
          6.4,
          5.5,
          5.5,
          6.1,
          6.2,
          7.1,
          5.6,
          5.6,
          5.6,
          5.4,
          5.5,
          5.3,
          7.2,
          7.1,
          6.9,
          5.9,
          6,
          6.5,
          5.6,
          5.8,
          6.2,
          5.8,
          5.8,
          7.2,
          5.5,
          6.2,
          5.4,
          7.4,
          7.4,
          7,
          6.2,
          5.6,
          6.9,
          6.8,
          6.2,
          6.6,
          5,
          6,
          6,
          7.3,
          5.7,
          5.3,
          5.1,
          5.5,
          2.7,
          3,
          3.8,
          5.4,
          6.9,
          6,
          7.8,
          4,
          4.5,
          5.2,
          6.6,
          6.6,
          6.6,
          6,
          5.7,
          5.2,
          6,
          5.7,
          6.1,
          6.1,
          5,
          5,
          6.1,
          6.4,
          6.4,
          7.6,
          7,
          6.7,
          6.1,
          6.6,
          4.1,
          7,
          5.5,
          7.5,
          7.2,
          5,
          6.2,
          7,
          4.8,
          6.4,
          5,
          7.3,
          8,
          7.1,
          5.7,
          7.9,
          8,
          6.4,
          5.3,
          6,
          6.7,
          8.5,
          7.9,
          6.2,
          7.7,
          4.5,
          7.9,
          8,
          7.3,
          6.8,
          8,
          6.5,
          8.2,
          8.5,
          6.3,
          6.1,
          6.1,
          5.9,
          5,
          7,
          6.5,
          5.9,
          7,
          5.2,
          7.1,
          6,
          6.2,
          5.6,
          6.4,
          5.2,
          5.4,
          7.5,
          6.9,
          7,
          7.4,
          8,
          6.3,
          7.4,
          5.7,
          2.8,
          9.5,
          6.5,
          8.2,
          9.6,
          8,
          8.2,
          6.4,
          6,
          8,
          8.3,
          6,
          7.4,
          7,
          6,
          8,
          7.9,
          8.6,
          8,
          7.5,
          7,
          8.6,
          7.8,
          7.1,
          7.7,
          8.3,
          8,
          7.9,
          6.9,
          7.9,
          7.4,
          8.2,
          6.7,
          6.8,
          8.4,
          6.9,
          7.9,
          7.3,
          4.6,
          8.2,
          8,
          8.1,
          7.2,
          8.5,
          7.9,
          7.8,
          6.7,
          7.1,
          6.8,
          7.8,
          8.1,
          5.8,
          5.2,
          7.1,
          6.7,
          5.4,
          6.7,
          8.3,
          7.6,
          6,
          7.3,
          6.1,
          5.4,
          6.2,
          5.9,
          7.4,
          8.9,
          6.2,
          6.4,
          6.1,
          5.9,
          6.2,
          6.6,
          7,
          5.6,
          8.2,
          5.6,
          6.9,
          7,
          6.1,
          6.6,
          5.7,
          5.3,
          8.2,
          7.2,
          7.5,
          8,
          8.5,
          6.8,
          5.6,
          8.4,
          6.6,
          6.8,
          6.2,
          8.5,
          6.8,
          5.3,
          7.2,
          6.1,
          7.2,
          7,
          7.8,
          7.2,
          8.7,
          7.6,
          7,
          6.8,
          7,
          6.1,
          7.3,
          7.3,
          7.3,
          8.1,
          6.7,
          4.9,
          6.5,
          7.4,
          7.5,
          6.9,
          7.3,
          6.3,
          6,
          6.9,
          6.3,
          8,
          5.9,
          6.3,
          6.4,
          6.3,
          7.1,
          6,
          6.4,
          6.8,
          8.1,
          6.3,
          6.8,
          7.6,
          6.7,
          7.2,
          7.5,
          6.5,
          5,
          6.9,
          7.1,
          4.6,
          5.2,
          3.6,
          6.3,
          7.1,
          7,
          6.7,
          6.4,
          7.1,
          6.9,
          6.5,
          7,
          4.3,
          5.6,
          7,
          6.9,
          5.5,
          4.8,
          6.7,
          7.5,
          7.6,
          7.5,
          7.1,
          6.2,
          5.2,
          3.8,
          6.2,
          7,
          4.1,
          4.6,
          6.2,
          6.3,
          7.3,
          5.5,
          7.7,
          6,
          6.2,
          6,
          7.2,
          7.1,
          7.1,
          7,
          6.8,
          7.4,
          6.9,
          3.6,
          5.7,
          5.5,
          6.8,
          6.4,
          8,
          4.5,
          5.1,
          4.9,
          6.8,
          5.3,
          4.4,
          7.1,
          6.6,
          5.8,
          6.8,
          6,
          7.9,
          5.5,
          5.1,
          6.9,
          7.3,
          7.9,
          7.3,
          7.2,
          7.8,
          5,
          6.2,
          6.7,
          6,
          7,
          5.9,
          6.7,
          6.8,
          7.9,
          5.2,
          6.5,
          6.1,
          8,
          7.2,
          6.5,
          7.2,
          6,
          5.9,
          4.9,
          8.1,
          5.5,
          5.8,
          5.6,
          7.5,
          7.5,
          5.4,
          9.2,
          6.8,
          5.8,
          6.9,
          8.4,
          6.9,
          6.7,
          8,
          7.2,
          9.2,
          8.6,
          7.1,
          7.9,
          4.8,
          6.8,
          8,
          6.4,
          7.1,
          6.3,
          5.1,
          7,
          7.9,
          8.2,
          3.6,
          8,
          6.1,
          6.9,
          7.6,
          6.4,
          7.2,
          7,
          6.6,
          7.3,
          7.6,
          7,
          4.5,
          5.4,
          7.1,
          6.9,
          7.8,
          5.6,
          6.2,
          5.8,
          7,
          6.5,
          7,
          6.1,
          6.2,
          7.5,
          7.5,
          6.5,
          6.9,
          7.8,
          7.2,
          5.9,
          6.6,
          7.8,
          6,
          6.9,
          7.1,
          5.4,
          6.9,
          5.6,
          6.2,
          6.6,
          7.9,
          5.3,
          5.4,
          5.9,
          6,
          6.4,
          6.8,
          7.3
         ]
        }
       ],
       "layout": {
        "autosize": true,
        "hovermode": "closest",
        "showlegend": false,
        "template": {
         "data": {
          "bar": [
           {
            "error_x": {
             "color": "#2a3f5f"
            },
            "error_y": {
             "color": "#2a3f5f"
            },
            "marker": {
             "line": {
              "color": "#E5ECF6",
              "width": 0.5
             }
            },
            "type": "bar"
           }
          ],
          "barpolar": [
           {
            "marker": {
             "line": {
              "color": "#E5ECF6",
              "width": 0.5
             }
            },
            "type": "barpolar"
           }
          ],
          "carpet": [
           {
            "aaxis": {
             "endlinecolor": "#2a3f5f",
             "gridcolor": "white",
             "linecolor": "white",
             "minorgridcolor": "white",
             "startlinecolor": "#2a3f5f"
            },
            "baxis": {
             "endlinecolor": "#2a3f5f",
             "gridcolor": "white",
             "linecolor": "white",
             "minorgridcolor": "white",
             "startlinecolor": "#2a3f5f"
            },
            "type": "carpet"
           }
          ],
          "choropleth": [
           {
            "colorbar": {
             "outlinewidth": 0,
             "ticks": ""
            },
            "type": "choropleth"
           }
          ],
          "contour": [
           {
            "colorbar": {
             "outlinewidth": 0,
             "ticks": ""
            },
            "colorscale": [
             [
              0,
              "#0d0887"
             ],
             [
              0.1111111111111111,
              "#46039f"
             ],
             [
              0.2222222222222222,
              "#7201a8"
             ],
             [
              0.3333333333333333,
              "#9c179e"
             ],
             [
              0.4444444444444444,
              "#bd3786"
             ],
             [
              0.5555555555555556,
              "#d8576b"
             ],
             [
              0.6666666666666666,
              "#ed7953"
             ],
             [
              0.7777777777777778,
              "#fb9f3a"
             ],
             [
              0.8888888888888888,
              "#fdca26"
             ],
             [
              1,
              "#f0f921"
             ]
            ],
            "type": "contour"
           }
          ],
          "contourcarpet": [
           {
            "colorbar": {
             "outlinewidth": 0,
             "ticks": ""
            },
            "type": "contourcarpet"
           }
          ],
          "heatmap": [
           {
            "colorbar": {
             "outlinewidth": 0,
             "ticks": ""
            },
            "colorscale": [
             [
              0,
              "#0d0887"
             ],
             [
              0.1111111111111111,
              "#46039f"
             ],
             [
              0.2222222222222222,
              "#7201a8"
             ],
             [
              0.3333333333333333,
              "#9c179e"
             ],
             [
              0.4444444444444444,
              "#bd3786"
             ],
             [
              0.5555555555555556,
              "#d8576b"
             ],
             [
              0.6666666666666666,
              "#ed7953"
             ],
             [
              0.7777777777777778,
              "#fb9f3a"
             ],
             [
              0.8888888888888888,
              "#fdca26"
             ],
             [
              1,
              "#f0f921"
             ]
            ],
            "type": "heatmap"
           }
          ],
          "heatmapgl": [
           {
            "colorbar": {
             "outlinewidth": 0,
             "ticks": ""
            },
            "colorscale": [
             [
              0,
              "#0d0887"
             ],
             [
              0.1111111111111111,
              "#46039f"
             ],
             [
              0.2222222222222222,
              "#7201a8"
             ],
             [
              0.3333333333333333,
              "#9c179e"
             ],
             [
              0.4444444444444444,
              "#bd3786"
             ],
             [
              0.5555555555555556,
              "#d8576b"
             ],
             [
              0.6666666666666666,
              "#ed7953"
             ],
             [
              0.7777777777777778,
              "#fb9f3a"
             ],
             [
              0.8888888888888888,
              "#fdca26"
             ],
             [
              1,
              "#f0f921"
             ]
            ],
            "type": "heatmapgl"
           }
          ],
          "histogram": [
           {
            "marker": {
             "colorbar": {
              "outlinewidth": 0,
              "ticks": ""
             }
            },
            "type": "histogram"
           }
          ],
          "histogram2d": [
           {
            "colorbar": {
             "outlinewidth": 0,
             "ticks": ""
            },
            "colorscale": [
             [
              0,
              "#0d0887"
             ],
             [
              0.1111111111111111,
              "#46039f"
             ],
             [
              0.2222222222222222,
              "#7201a8"
             ],
             [
              0.3333333333333333,
              "#9c179e"
             ],
             [
              0.4444444444444444,
              "#bd3786"
             ],
             [
              0.5555555555555556,
              "#d8576b"
             ],
             [
              0.6666666666666666,
              "#ed7953"
             ],
             [
              0.7777777777777778,
              "#fb9f3a"
             ],
             [
              0.8888888888888888,
              "#fdca26"
             ],
             [
              1,
              "#f0f921"
             ]
            ],
            "type": "histogram2d"
           }
          ],
          "histogram2dcontour": [
           {
            "colorbar": {
             "outlinewidth": 0,
             "ticks": ""
            },
            "colorscale": [
             [
              0,
              "#0d0887"
             ],
             [
              0.1111111111111111,
              "#46039f"
             ],
             [
              0.2222222222222222,
              "#7201a8"
             ],
             [
              0.3333333333333333,
              "#9c179e"
             ],
             [
              0.4444444444444444,
              "#bd3786"
             ],
             [
              0.5555555555555556,
              "#d8576b"
             ],
             [
              0.6666666666666666,
              "#ed7953"
             ],
             [
              0.7777777777777778,
              "#fb9f3a"
             ],
             [
              0.8888888888888888,
              "#fdca26"
             ],
             [
              1,
              "#f0f921"
             ]
            ],
            "type": "histogram2dcontour"
           }
          ],
          "mesh3d": [
           {
            "colorbar": {
             "outlinewidth": 0,
             "ticks": ""
            },
            "type": "mesh3d"
           }
          ],
          "parcoords": [
           {
            "line": {
             "colorbar": {
              "outlinewidth": 0,
              "ticks": ""
             }
            },
            "type": "parcoords"
           }
          ],
          "pie": [
           {
            "automargin": true,
            "type": "pie"
           }
          ],
          "scatter": [
           {
            "marker": {
             "colorbar": {
              "outlinewidth": 0,
              "ticks": ""
             }
            },
            "type": "scatter"
           }
          ],
          "scatter3d": [
           {
            "line": {
             "colorbar": {
              "outlinewidth": 0,
              "ticks": ""
             }
            },
            "marker": {
             "colorbar": {
              "outlinewidth": 0,
              "ticks": ""
             }
            },
            "type": "scatter3d"
           }
          ],
          "scattercarpet": [
           {
            "marker": {
             "colorbar": {
              "outlinewidth": 0,
              "ticks": ""
             }
            },
            "type": "scattercarpet"
           }
          ],
          "scattergeo": [
           {
            "marker": {
             "colorbar": {
              "outlinewidth": 0,
              "ticks": ""
             }
            },
            "type": "scattergeo"
           }
          ],
          "scattergl": [
           {
            "marker": {
             "colorbar": {
              "outlinewidth": 0,
              "ticks": ""
             }
            },
            "type": "scattergl"
           }
          ],
          "scattermapbox": [
           {
            "marker": {
             "colorbar": {
              "outlinewidth": 0,
              "ticks": ""
             }
            },
            "type": "scattermapbox"
           }
          ],
          "scatterpolar": [
           {
            "marker": {
             "colorbar": {
              "outlinewidth": 0,
              "ticks": ""
             }
            },
            "type": "scatterpolar"
           }
          ],
          "scatterpolargl": [
           {
            "marker": {
             "colorbar": {
              "outlinewidth": 0,
              "ticks": ""
             }
            },
            "type": "scatterpolargl"
           }
          ],
          "scatterternary": [
           {
            "marker": {
             "colorbar": {
              "outlinewidth": 0,
              "ticks": ""
             }
            },
            "type": "scatterternary"
           }
          ],
          "surface": [
           {
            "colorbar": {
             "outlinewidth": 0,
             "ticks": ""
            },
            "colorscale": [
             [
              0,
              "#0d0887"
             ],
             [
              0.1111111111111111,
              "#46039f"
             ],
             [
              0.2222222222222222,
              "#7201a8"
             ],
             [
              0.3333333333333333,
              "#9c179e"
             ],
             [
              0.4444444444444444,
              "#bd3786"
             ],
             [
              0.5555555555555556,
              "#d8576b"
             ],
             [
              0.6666666666666666,
              "#ed7953"
             ],
             [
              0.7777777777777778,
              "#fb9f3a"
             ],
             [
              0.8888888888888888,
              "#fdca26"
             ],
             [
              1,
              "#f0f921"
             ]
            ],
            "type": "surface"
           }
          ],
          "table": [
           {
            "cells": {
             "fill": {
              "color": "#EBF0F8"
             },
             "line": {
              "color": "white"
             }
            },
            "header": {
             "fill": {
              "color": "#C8D4E3"
             },
             "line": {
              "color": "white"
             }
            },
            "type": "table"
           }
          ]
         },
         "layout": {
          "annotationdefaults": {
           "arrowcolor": "#2a3f5f",
           "arrowhead": 0,
           "arrowwidth": 1
          },
          "coloraxis": {
           "colorbar": {
            "outlinewidth": 0,
            "ticks": ""
           }
          },
          "colorscale": {
           "diverging": [
            [
             0,
             "#8e0152"
            ],
            [
             0.1,
             "#c51b7d"
            ],
            [
             0.2,
             "#de77ae"
            ],
            [
             0.3,
             "#f1b6da"
            ],
            [
             0.4,
             "#fde0ef"
            ],
            [
             0.5,
             "#f7f7f7"
            ],
            [
             0.6,
             "#e6f5d0"
            ],
            [
             0.7,
             "#b8e186"
            ],
            [
             0.8,
             "#7fbc41"
            ],
            [
             0.9,
             "#4d9221"
            ],
            [
             1,
             "#276419"
            ]
           ],
           "sequential": [
            [
             0,
             "#0d0887"
            ],
            [
             0.1111111111111111,
             "#46039f"
            ],
            [
             0.2222222222222222,
             "#7201a8"
            ],
            [
             0.3333333333333333,
             "#9c179e"
            ],
            [
             0.4444444444444444,
             "#bd3786"
            ],
            [
             0.5555555555555556,
             "#d8576b"
            ],
            [
             0.6666666666666666,
             "#ed7953"
            ],
            [
             0.7777777777777778,
             "#fb9f3a"
            ],
            [
             0.8888888888888888,
             "#fdca26"
            ],
            [
             1,
             "#f0f921"
            ]
           ],
           "sequentialminus": [
            [
             0,
             "#0d0887"
            ],
            [
             0.1111111111111111,
             "#46039f"
            ],
            [
             0.2222222222222222,
             "#7201a8"
            ],
            [
             0.3333333333333333,
             "#9c179e"
            ],
            [
             0.4444444444444444,
             "#bd3786"
            ],
            [
             0.5555555555555556,
             "#d8576b"
            ],
            [
             0.6666666666666666,
             "#ed7953"
            ],
            [
             0.7777777777777778,
             "#fb9f3a"
            ],
            [
             0.8888888888888888,
             "#fdca26"
            ],
            [
             1,
             "#f0f921"
            ]
           ]
          },
          "colorway": [
           "#636efa",
           "#EF553B",
           "#00cc96",
           "#ab63fa",
           "#FFA15A",
           "#19d3f3",
           "#FF6692",
           "#B6E880",
           "#FF97FF",
           "#FECB52"
          ],
          "font": {
           "color": "#2a3f5f"
          },
          "geo": {
           "bgcolor": "white",
           "lakecolor": "white",
           "landcolor": "#E5ECF6",
           "showlakes": true,
           "showland": true,
           "subunitcolor": "white"
          },
          "hoverlabel": {
           "align": "left"
          },
          "hovermode": "closest",
          "mapbox": {
           "style": "light"
          },
          "paper_bgcolor": "white",
          "plot_bgcolor": "#E5ECF6",
          "polar": {
           "angularaxis": {
            "gridcolor": "white",
            "linecolor": "white",
            "ticks": ""
           },
           "bgcolor": "#E5ECF6",
           "radialaxis": {
            "gridcolor": "white",
            "linecolor": "white",
            "ticks": ""
           }
          },
          "scene": {
           "xaxis": {
            "backgroundcolor": "#E5ECF6",
            "gridcolor": "white",
            "gridwidth": 2,
            "linecolor": "white",
            "showbackground": true,
            "ticks": "",
            "zerolinecolor": "white"
           },
           "yaxis": {
            "backgroundcolor": "#E5ECF6",
            "gridcolor": "white",
            "gridwidth": 2,
            "linecolor": "white",
            "showbackground": true,
            "ticks": "",
            "zerolinecolor": "white"
           },
           "zaxis": {
            "backgroundcolor": "#E5ECF6",
            "gridcolor": "white",
            "gridwidth": 2,
            "linecolor": "white",
            "showbackground": true,
            "ticks": "",
            "zerolinecolor": "white"
           }
          },
          "shapedefaults": {
           "line": {
            "color": "#2a3f5f"
           }
          },
          "ternary": {
           "aaxis": {
            "gridcolor": "white",
            "linecolor": "white",
            "ticks": ""
           },
           "baxis": {
            "gridcolor": "white",
            "linecolor": "white",
            "ticks": ""
           },
           "bgcolor": "#E5ECF6",
           "caxis": {
            "gridcolor": "white",
            "linecolor": "white",
            "ticks": ""
           }
          },
          "title": {
           "x": 0.05
          },
          "xaxis": {
           "automargin": true,
           "gridcolor": "white",
           "linecolor": "white",
           "ticks": "",
           "title": {
            "standoff": 15
           },
           "zerolinecolor": "white",
           "zerolinewidth": 2
          },
          "yaxis": {
           "automargin": true,
           "gridcolor": "white",
           "linecolor": "white",
           "ticks": "",
           "title": {
            "standoff": 15
           },
           "zerolinecolor": "white",
           "zerolinewidth": 2
          }
         }
        },
        "title": {
         "text": "Scatter plot of Total Proteins in Male and Females"
        },
        "xaxis": {
         "gridwidth": 0.1,
         "ticklen": 10,
         "title": {
          "text": "Age"
         }
        },
        "yaxis": {
         "gridwidth": 0.1,
         "ticklen": 10,
         "title": {
          "text": "Total Protein"
         }
        }
       }
      },
      "text/html": [
       "<div>\n",
       "        \n",
       "        \n",
       "            <div id=\"51bce769-fed3-41e1-9f8c-f8eb5051d1b4\" class=\"plotly-graph-div\" style=\"height:525px; width:100%;\"></div>\n",
       "            <script type=\"text/javascript\">\n",
       "                require([\"plotly\"], function(Plotly) {\n",
       "                    window.PLOTLYENV=window.PLOTLYENV || {};\n",
       "                    \n",
       "                if (document.getElementById(\"51bce769-fed3-41e1-9f8c-f8eb5051d1b4\")) {\n",
       "                    Plotly.newPlot(\n",
       "                        '51bce769-fed3-41e1-9f8c-f8eb5051d1b4',\n",
       "                        [{\"marker\": {\"color\": [6.8, 7.5, 7.0, 6.8, 7.3, 7.6, 7.0, 6.7, 7.4, 6.8, 5.9, 7.4, 7.0, 8.1, 5.8, 5.5, 7.6, 7.3, 6.8, 6.8, 7.3, 7.0, 6.4, 4.3, 6.0, 5.0, 5.0, 7.2, 3.9, 6.0, 5.2, 4.9, 5.2, 5.6, 5.6, 6.9, 7.2, 4.3, 5.8, 6.2, 5.1, 4.9, 6.1, 6.4, 7.0, 6.5, 6.8, 4.9, 6.0, 6.2, 5.7, 6.6, 6.8, 6.3, 5.8, 5.8, 8.0, 5.5, 5.2, 5.5, 6.0, 7.2, 7.2, 5.1, 6.5, 5.6, 6.0, 6.4, 6.3, 6.3, 5.5, 4.4, 4.4, 6.6, 5.8, 5.2, 5.3, 4.6, 6.2, 4.7, 4.7, 5.1, 5.4, 5.4, 7.5, 6.7, 7.2, 6.2, 7.5, 7.1, 7.3, 6.8, 7.4, 7.0, 6.8, 4.4, 7.1, 4.0, 5.9, 6.9, 3.7, 5.3, 6.9, 6.1, 5.5, 5.1, 5.1, 6.0, 6.0, 5.9, 5.5, 5.7, 6.1, 5.0, 5.7, 5.6, 5.3, 5.7, 5.6, 5.4, 7.1, 6.6, 5.9, 6.3, 6.9, 3.9, 6.0, 6.5, 8.0, 5.1, 6.0, 5.8, 6.5, 6.6, 6.8, 7.0, 6.4, 5.5, 5.5, 6.1, 6.2, 7.1, 5.6, 5.6, 5.6, 5.4, 5.5, 5.3, 7.2, 7.1, 6.9, 5.9, 6.0, 6.5, 5.6, 5.8, 6.2, 5.8, 5.8, 7.2, 5.5, 6.2, 5.4, 7.4, 7.4, 7.0, 6.2, 5.6, 6.9, 6.8, 6.2, 6.6, 5.0, 6.0, 6.0, 7.3, 5.7, 5.3, 5.1, 5.5, 2.7, 3.0, 3.8, 5.4, 6.9, 6.0, 7.8, 4.0, 4.5, 5.2, 6.6, 6.6, 6.6, 6.0, 5.7, 5.2, 6.0, 5.7, 6.1, 6.1, 5.0, 5.0, 6.1, 6.4, 6.4, 7.6, 7.0, 6.7, 6.1, 6.6, 4.1, 7.0, 5.5, 7.5, 7.2, 5.0, 6.2, 7.0, 4.8, 6.4, 5.0, 7.3, 8.0, 7.1, 5.7, 7.9, 8.0, 6.4, 5.3, 6.0, 6.7, 8.5, 7.9, 6.2, 7.7, 4.5, 7.9, 8.0, 7.3, 6.8, 8.0, 6.5, 8.2, 8.5, 6.3, 6.1, 6.1, 5.9, 5.0, 7.0, 6.5, 5.9, 7.0, 5.2, 7.1, 6.0, 6.2, 5.6, 6.4, 5.2, 5.4, 7.5, 6.9, 7.0, 7.4, 8.0, 6.3, 7.4, 5.7, 2.8, 9.5, 6.5, 8.2, 9.6, 8.0, 8.2, 6.4, 6.0, 8.0, 8.3, 6.0, 7.4, 7.0, 6.0, 8.0, 7.9, 8.6, 8.0, 7.5, 7.0, 8.6, 7.8, 7.1, 7.7, 8.3, 8.0, 7.9, 6.9, 7.9, 7.4, 8.2, 6.7, 6.8, 8.4, 6.9, 7.9, 7.3, 4.6, 8.2, 8.0, 8.1, 7.2, 8.5, 7.9, 7.8, 6.7, 7.1, 6.8, 7.8, 8.1, 5.8, 5.2, 7.1, 6.7, 5.4, 6.7, 8.3, 7.6, 6.0, 7.3, 6.1, 5.4, 6.2, 5.9, 7.4, 8.9, 6.2, 6.4, 6.1, 5.9, 6.2, 6.6, 7.0, 5.6, 8.2, 5.6, 6.9, 7.0, 6.1, 6.6, 5.7, 5.3, 8.2, 7.2, 7.5, 8.0, 8.5, 6.8, 5.6, 8.4, 6.6, 6.8, 6.2, 8.5, 6.8, 5.3, 7.2, 6.1, 7.2, 7.0, 7.8, 7.2, 8.7, 7.6, 7.0, 6.8, 7.0, 6.1, 7.3, 7.3, 7.3, 8.1, 6.7, 4.9, 6.5, 7.4, 7.5, 6.9, 7.3, 6.3, 6.0, 6.9, 6.3, 8.0, 5.9, 6.3, 6.4, 6.3, 7.1, 6.0, 6.4, 6.8, 8.1, 6.3, 6.8, 7.6, 6.7, 7.2, 7.5, 6.5, 5.0, 6.9, 7.1, 4.6, 5.2, 3.6, 6.3, 7.1, 7.0, 6.7, 6.4, 7.1, 6.9, 6.5, 7.0, 4.3, 5.6, 7.0, 6.9, 5.5, 4.8, 6.7, 7.5, 7.6, 7.5, 7.1, 6.2, 5.2, 3.8, 6.2, 7.0, 4.1, 4.6, 6.2, 6.3, 7.3, 5.5, 7.7, 6.0, 6.2, 6.0, 7.2, 7.1, 7.1, 7.0, 6.8, 7.4, 6.9, 3.6, 5.7, 5.5, 6.8, 6.4, 8.0, 4.5, 5.1, 4.9, 6.8, 5.3, 4.4, 7.1, 6.6, 5.8, 6.8, 6.0, 7.9, 5.5, 5.1, 6.9, 7.3, 7.9, 7.3, 7.2, 7.8, 5.0, 6.2, 6.7, 6.0, 7.0, 5.9, 6.7, 6.8, 7.9, 5.2, 6.5, 6.1, 8.0, 7.2, 6.5, 7.2, 6.0, 5.9, 4.9, 8.1, 5.5, 5.8, 5.6, 7.5, 7.5, 5.4, 9.2, 6.8, 5.8, 6.9, 8.4, 6.9, 6.7, 8.0, 7.2, 9.2, 8.6, 7.1, 7.9, 4.8, 6.8, 8.0, 6.4, 7.1, 6.3, 5.1, 7.0, 7.9, 8.2, 3.6, 8.0, 6.1, 6.9, 7.6, 6.4, 7.2, 7.0, 6.6, 7.3, 7.6, 7.0, 4.5, 5.4, 7.1, 6.9, 7.8, 5.6, 6.2, 5.8, 7.0, 6.5, 7.0, 6.1, 6.2, 7.5, 7.5, 6.5, 6.9, 7.8, 7.2, 5.9, 6.6, 7.8, 6.0, 6.9, 7.1, 5.4, 6.9, 5.6, 6.2, 6.6, 7.9, 5.3, 5.4, 5.9, 6.0, 6.4, 6.8, 7.3], \"colorscale\": [[0.0, \"rgb(12,51,131)\"], [0.25, \"rgb(10,136,186)\"], [0.5, \"rgb(242,211,56)\"], [0.75, \"rgb(242,143,56)\"], [1.0, \"rgb(217,30,30)\"]], \"showscale\": true, \"size\": [0.7, 10.9, 7.3, 1.0, 3.9, 1.8, 0.9, 0.9, 0.9, 0.7, 0.6, 2.7, 0.9, 1.1, 0.7, 0.6, 1.8, 1.6, 0.9, 0.9, 2.2, 2.9, 6.8, 1.9, 0.9, 4.1, 4.1, 6.2, 1.1, 0.7, 4.0, 0.9, 1.0, 2.6, 2.6, 1.3, 0.7, 14.2, 1.4, 2.7, 2.4, 0.6, 6.8, 2.6, 1.0, 1.8, 3.9, 1.1, 0.6, 18.4, 0.7, 0.6, 3.1, 1.1, 8.9, 8.9, 0.8, 0.9, 0.8, 1.1, 0.8, 1.0, 1.0, 0.7, 1.3, 1.4, 2.2, 1.8, 0.7, 0.8, 0.7, 0.8, 0.8, 0.6, 0.7, 0.7, 0.9, 0.6, 1.4, 2.8, 2.4, 1.0, 0.7, 2.0, 0.6, 1.4, 0.6, 0.8, 0.6, 4.0, 5.7, 6.8, 8.6, 5.8, 5.2, 0.9, 3.8, 6.6, 0.6, 0.7, 0.6, 0.7, 0.9, 0.8, 0.5, 5.3, 5.3, 0.8, 0.8, 0.9, 0.7, 3.2, 1.2, 0.6, 5.8, 7.3, 0.7, 12.7, 15.9, 18.0, 23.0, 22.7, 1.7, 0.8, 0.6, 1.8, 5.8, 3.0, 1.7, 2.8, 3.2, 0.7, 0.8, 0.9, 1.8, 11.3, 4.7, 0.8, 0.8, 0.8, 0.6, 4.2, 1.6, 1.6, 3.5, 0.8, 2.9, 0.7, 0.9, 0.8, 1.1, 1.6, 0.8, 0.6, 5.9, 8.7, 0.9, 0.7, 0.7, 1.2, 11.0, 11.5, 5.8, 1.9, 1.9, 4.5, 75.0, 3.0, 22.8, 8.9, 1.7, 1.9, 14.1, 0.6, 0.6, 0.8, 0.8, 14.8, 10.6, 8.0, 2.8, 2.9, 1.9, 0.6, 1.1, 1.5, 3.2, 2.1, 1.9, 0.8, 6.3, 5.8, 2.3, 1.3, 2.0, 2.4, 2.0, 0.6, 0.9, 27.2, 0.6, 0.6, 0.8, 1.0, 0.7, 2.5, 3.6, 3.9, 0.9, 0.9, 0.8, 2.7, 2.7, 0.9, 1.7, 0.6, 0.9, 1.1, 0.6, 0.8, 0.8, 0.9, 0.9, 1.1, 1.7, 0.6, 1.3, 0.7, 1.0, 0.6, 1.5, 0.8, 2.7, 2.0, 0.9, 1.5, 0.8, 0.9, 0.9, 0.9, 0.7, 0.8, 0.8, 0.9, 0.8, 0.9, 1.8, 0.9, 0.7, 1.2, 2.1, 0.9, 1.1, 0.6, 0.7, 1.7, 0.9, 0.8, 0.8, 30.5, 16.4, 1.5, 0.8, 0.8, 0.8, 0.9, 1.2, 0.9, 14.5, 0.6, 0.7, 0.8, 18.5, 0.7, 1.8, 1.9, 0.9, 2.0, 2.2, 1.0, 0.8, 0.7, 0.7, 1.3, 0.9, 1.5, 0.8, 1.3, 1.0, 4.5, 1.0, 0.7, 0.6, 1.1, 2.4, 0.6, 0.9, 0.9, 1.1, 0.9, 0.8, 0.9, 1.7, 0.7, 0.8, 1.4, 1.6, 0.8, 0.8, 1.1, 0.8, 23.2, 1.3, 0.8, 2.0, 0.9, 0.9, 0.7, 3.7, 0.9, 0.7, 0.8, 1.7, 0.8, 2.6, 0.8, 1.2, 3.3, 0.8, 0.7, 2.0, 1.7, 7.1, 0.7, 0.7, 0.7, 6.7, 2.5, 1.8, 1.4, 0.9, 0.8, 0.8, 3.1, 0.8, 2.9, 0.6, 0.7, 1.3, 0.8, 1.8, 1.3, 0.7, 1.4, 0.8, 1.4, 0.7, 2.1, 0.7, 0.8, 0.7, 0.7, 1.1, 0.9, 0.8, 0.7, 0.7, 2.2, 0.8, 0.8, 22.6, 0.8, 0.7, 0.7, 0.7, 3.5, 0.7, 0.6, 0.7, 0.7, 1.7, 0.6, 0.7, 1.4, 3.7, 0.8, 2.7, 0.8, 0.8, 0.6, 0.8, 0.9, 7.5, 2.7, 1.0, 0.8, 1.0, 1.0, 0.8, 1.0, 0.7, 7.3, 0.5, 0.7, 0.8, 0.8, 0.7, 1.0, 2.4, 5.0, 1.4, 2.3, 4.9, 0.7, 1.4, 1.3, 0.6, 0.7, 4.2, 8.2, 10.9, 1.0, 1.2, 1.6, 0.7, 0.4, 1.3, 0.9, 0.6, 1.9, 0.7, 0.8, 0.7, 0.9, 0.7, 0.5, 1.0, 1.6, 0.8, 0.8, 0.8, 2.3, 7.4, 0.7, 0.8, 0.9, 0.8, 23.3, 0.8, 0.9, 7.9, 0.8, 0.9, 0.7, 0.6, 0.6, 0.7, 0.8, 6.8, 1.1, 2.2, 0.8, 0.7, 0.8, 0.7, 0.6, 0.6, 1.0, 1.0, 0.8, 1.1, 0.6, 0.7, 1.0, 2.0, 2.2, 0.9, 0.6, 7.1, 3.4, 0.5, 2.3, 1.1, 0.8, 5.0, 6.7, 0.8, 0.7, 0.7, 0.8, 0.8, 1.0, 1.0, 0.7, 0.7, 0.7, 1.0, 2.2, 1.8, 3.6, 2.7, 2.8, 0.8, 19.8, 30.5, 32.6, 17.7, 0.9, 18.4, 20.0, 0.8, 2.2, 1.0, 0.9, 1.0, 3.9, 0.9, 0.9, 2.9, 26.3, 1.8, 4.4, 0.8, 0.6, 0.8, 0.9, 9.4, 3.5, 1.7, 3.3, 1.1, 30.8, 0.7, 1.4, 1.6, 19.6, 15.8, 0.8, 1.8, 0.7, 0.8, 0.8, 0.7, 1.2, 5.5, 0.7, 20.2, 27.7, 11.1, 2.1, 3.3, 1.2, 0.6, 10.2, 1.8, 0.8, 0.7, 2.9, 4.0, 42.8, 15.2, 16.6, 17.3, 1.4, 0.6, 22.5, 1.0, 2.7, 16.7, 7.7, 2.6, 1.1, 15.6, 3.7, 12.1, 25.0, 15.0, 12.7, 0.5, 0.6, 0.8, 1.3, 1.0]}, \"mode\": \"markers\", \"text\": [1.0, 1.0, 1.0, 1.0, 1.0, 1.0, 1.0, 1.0, 2.0, 1.0, 1.0, 1.0, 2.0, 1.0, 1.0, 2.0, 1.0, 2.0, 1.0, 1.0, 1.0, 1.0, 1.0, 1.0, 2.0, 1.0, 1.0, 1.0, 2.0, 2.0, 1.0, 1.0, 2.0, 2.0, 2.0, 1.0, 2.0, 1.0, 1.0, 1.0, 1.0, 2.0, 2.0, 1.0, 2.0, 2.0, 1.0, 1.0, 1.0, 1.0, 1.0, 1.0, 1.0, 1.0, 1.0, 1.0, 2.0, 2.0, 1.0, 2.0, 1.0, 1.0, 1.0, 1.0, 1.0, 1.0, 1.0, 1.0, 1.0, 2.0, 1.0, 1.0, 1.0, 1.0, 1.0, 2.0, 1.0, 1.0, 2.0, 1.0, 1.0, 1.0, 2.0, 1.0, 1.0, 1.0, 2.0, 1.0, 1.0, 1.0, 1.0, 1.0, 1.0, 1.0, 1.0, 1.0, 1.0, 1.0, 1.0, 1.0, 2.0, 2.0, 1.0, 2.0, 1.0, 2.0, 2.0, 2.0, 2.0, 2.0, 2.0, 1.0, 2.0, 1.0, 2.0, 2.0, 1.0, 1.0, 1.0, 1.0, 1.0, 1.0, 2.0, 1.0, 2.0, 2.0, 1.0, 1.0, 1.0, 1.0, 1.0, 2.0, 2.0, 1.0, 1.0, 1.0, 1.0, 1.0, 1.0, 1.0, 2.0, 1.0, 1.0, 1.0, 1.0, 2.0, 1.0, 1.0, 1.0, 1.0, 2.0, 1.0, 1.0, 2.0, 1.0, 1.0, 1.0, 1.0, 1.0, 1.0, 1.0, 1.0, 1.0, 1.0, 1.0, 1.0, 1.0, 1.0, 1.0, 1.0, 1.0, 1.0, 1.0, 1.0, 1.0, 1.0, 1.0, 1.0, 1.0, 1.0, 1.0, 1.0, 2.0, 1.0, 1.0, 2.0, 1.0, 1.0, 1.0, 2.0, 1.0, 1.0, 1.0, 2.0, 2.0, 1.0, 1.0, 1.0, 2.0, 1.0, 1.0, 1.0, 2.0, 2.0, 2.0, 1.0, 1.0, 1.0, 1.0, 1.0, 1.0, 1.0, 2.0, 1.0, 1.0, 2.0, 2.0, 1.0, 2.0, 1.0, 1.0, 1.0, 1.0, 2.0, 1.0, 1.0, 1.0, 1.0, 2.0, 1.0, 2.0, 1.0, 1.0, 1.0, 1.0, 1.0, 2.0, 1.0, 2.0, 1.0, 2.0, 1.0, 1.0, 1.0, 1.0, 1.0, 1.0, 1.0, 1.0, 1.0, 1.0, 1.0, 2.0, 2.0, 2.0, 1.0, 1.0, 1.0, 2.0, 1.0, 1.0, 1.0, 1.0, 1.0, 2.0, 2.0, 1.0, 1.0, 1.0, 1.0, 1.0, 2.0, 1.0, 1.0, 1.0, 2.0, 2.0, 1.0, 1.0, 1.0, 1.0, 2.0, 1.0, 2.0, 1.0, 1.0, 1.0, 2.0, 1.0, 1.0, 1.0, 2.0, 1.0, 2.0, 1.0, 1.0, 1.0, 2.0, 1.0, 2.0, 2.0, 1.0, 1.0, 2.0, 1.0, 2.0, 1.0, 1.0, 1.0, 1.0, 1.0, 1.0, 2.0, 2.0, 1.0, 2.0, 2.0, 1.0, 1.0, 2.0, 1.0, 1.0, 1.0, 2.0, 1.0, 2.0, 2.0, 2.0, 2.0, 2.0, 1.0, 1.0, 1.0, 2.0, 1.0, 1.0, 1.0, 1.0, 1.0, 1.0, 1.0, 1.0, 2.0, 1.0, 2.0, 1.0, 1.0, 1.0, 1.0, 2.0, 1.0, 1.0, 1.0, 1.0, 1.0, 2.0, 1.0, 1.0, 1.0, 2.0, 1.0, 2.0, 2.0, 2.0, 2.0, 2.0, 2.0, 2.0, 1.0, 1.0, 1.0, 2.0, 1.0, 2.0, 2.0, 1.0, 1.0, 2.0, 1.0, 2.0, 1.0, 1.0, 1.0, 2.0, 1.0, 1.0, 2.0, 1.0, 1.0, 1.0, 1.0, 1.0, 1.0, 1.0, 1.0, 2.0, 1.0, 1.0, 1.0, 1.0, 2.0, 1.0, 1.0, 2.0, 1.0, 1.0, 2.0, 1.0, 1.0, 1.0, 1.0, 2.0, 1.0, 2.0, 2.0, 1.0, 1.0, 2.0, 1.0, 1.0, 1.0, 2.0, 1.0, 2.0, 1.0, 1.0, 2.0, 1.0, 2.0, 1.0, 1.0, 2.0, 1.0, 2.0, 2.0, 2.0, 1.0, 1.0, 1.0, 1.0, 1.0, 1.0, 1.0, 1.0, 2.0, 2.0, 1.0, 1.0, 1.0, 1.0, 1.0, 1.0, 1.0, 1.0, 2.0, 1.0, 2.0, 2.0, 1.0, 1.0, 1.0, 1.0, 1.0, 1.0, 2.0, 2.0, 2.0, 2.0, 1.0, 1.0, 1.0, 2.0, 2.0, 2.0, 2.0, 2.0, 1.0, 1.0, 1.0, 1.0, 2.0, 1.0, 1.0, 2.0, 1.0, 1.0, 1.0, 1.0, 2.0, 2.0, 1.0, 2.0, 1.0, 2.0, 1.0, 2.0, 1.0, 1.0, 1.0, 1.0, 1.0, 1.0, 1.0, 1.0, 1.0, 1.0, 1.0, 1.0, 1.0, 1.0, 2.0, 1.0, 2.0, 1.0, 1.0, 1.0, 1.0, 1.0, 1.0, 1.0, 1.0, 1.0, 1.0, 1.0, 2.0, 2.0, 1.0, 1.0, 1.0, 1.0, 2.0, 1.0, 2.0, 1.0, 2.0, 1.0, 1.0, 1.0, 1.0, 2.0, 2.0, 2.0, 2.0, 1.0, 1.0, 2.0, 1.0, 1.0, 1.0, 1.0, 1.0, 2.0, 1.0, 1.0, 1.0, 1.0, 1.0, 1.0, 1.0, 1.0, 1.0, 1.0, 1.0, 1.0, 2.0, 1.0, 2.0, 1.0, 1.0, 1.0, 1.0, 1.0, 1.0, 1.0, 1.0, 1.0, 1.0, 1.0, 2.0, 1.0, 1.0, 1.0, 2.0], \"type\": \"scatter\", \"x\": [65, 62, 62, 58, 72, 46, 26, 29, 17, 55, 57, 72, 64, 74, 61, 25, 38, 33, 40, 40, 51, 51, 62, 40, 63, 34, 34, 34, 20, 84, 57, 52, 57, 38, 38, 30, 17, 46, 48, 47, 45, 62, 42, 50, 85, 35, 21, 40, 32, 55, 45, 34, 38, 38, 42, 42, 33, 48, 51, 64, 31, 58, 58, 57, 57, 57, 54, 37, 66, 60, 19, 75, 75, 52, 68, 29, 31, 68, 70, 58, 58, 29, 49, 33, 32, 14, 13, 58, 18, 60, 60, 60, 60, 60, 60, 75, 39, 39, 18, 18, 27, 27, 17, 55, 63, 36, 36, 36, 36, 36, 24, 48, 27, 74, 50, 50, 48, 32, 32, 32, 32, 32, 58, 64, 28, 60, 48, 64, 58, 45, 45, 70, 18, 53, 18, 66, 46, 18, 18, 15, 60, 66, 30, 30, 45, 65, 66, 65, 50, 60, 56, 50, 46, 52, 34, 34, 32, 72, 72, 50, 60, 60, 60, 39, 39, 48, 55, 47, 60, 60, 72, 44, 55, 31, 31, 31, 55, 75, 75, 75, 75, 75, 65, 40, 64, 38, 60, 60, 60, 48, 60, 60, 60, 49, 49, 60, 60, 26, 41, 7, 49, 49, 38, 21, 21, 45, 40, 40, 70, 45, 28, 42, 22, 8, 38, 66, 55, 49, 6, 37, 37, 47, 47, 50, 70, 26, 26, 68, 65, 46, 61, 61, 50, 33, 40, 60, 22, 35, 35, 40, 48, 51, 29, 28, 54, 54, 55, 55, 40, 33, 33, 33, 65, 35, 38, 38, 50, 44, 36, 42, 42, 33, 18, 38, 38, 4, 62, 43, 40, 26, 37, 4, 21, 30, 33, 26, 35, 60, 45, 48, 58, 50, 50, 18, 18, 13, 34, 43, 50, 57, 45, 60, 45, 23, 22, 22, 74, 25, 31, 24, 58, 51, 50, 50, 55, 54, 48, 30, 45, 48, 51, 54, 27, 30, 26, 22, 44, 35, 38, 14, 30, 30, 36, 12, 60, 42, 36, 24, 43, 21, 26, 26, 26, 36, 13, 13, 75, 75, 75, 75, 75, 36, 35, 70, 37, 60, 46, 38, 70, 49, 37, 37, 26, 48, 48, 19, 33, 33, 37, 69, 24, 65, 55, 42, 21, 40, 16, 60, 42, 58, 54, 33, 48, 25, 56, 47, 33, 20, 50, 72, 50, 39, 58, 60, 34, 50, 38, 51, 46, 72, 72, 75, 41, 41, 48, 45, 74, 78, 38, 27, 66, 50, 42, 65, 22, 31, 45, 12, 48, 48, 18, 23, 65, 48, 65, 70, 70, 11, 50, 55, 55, 26, 41, 53, 32, 58, 45, 65, 52, 73, 53, 47, 29, 41, 30, 17, 23, 35, 65, 42, 49, 42, 42, 42, 61, 17, 54, 45, 48, 48, 65, 35, 58, 46, 28, 21, 32, 61, 26, 65, 22, 28, 38, 25, 45, 45, 28, 28, 66, 66, 66, 49, 42, 42, 35, 38, 38, 55, 33, 33, 7, 45, 45, 30, 62, 22, 42, 32, 60, 65, 53, 27, 35, 65, 25, 32, 24, 67, 68, 55, 70, 36, 42, 53, 32, 32, 56, 50, 46, 46, 37, 45, 56, 69, 49, 49, 60, 28, 45, 35, 62, 55, 46, 50, 29, 53, 46, 40, 45, 55, 22, 40, 62, 46, 39, 60, 46, 10, 52, 65, 42, 42, 62, 40, 54, 45, 45, 50, 42, 40, 46, 29, 45, 46, 73, 55, 51, 51, 51, 26, 66, 66, 66, 64, 38, 43, 50, 52, 20, 16, 16, 90, 32, 32, 32, 32, 32, 32, 60, 40, 52, 31, 38], \"y\": [6.8, 7.5, 7.0, 6.8, 7.3, 7.6, 7.0, 6.7, 7.4, 6.8, 5.9, 7.4, 7.0, 8.1, 5.8, 5.5, 7.6, 7.3, 6.8, 6.8, 7.3, 7.0, 6.4, 4.3, 6.0, 5.0, 5.0, 7.2, 3.9, 6.0, 5.2, 4.9, 5.2, 5.6, 5.6, 6.9, 7.2, 4.3, 5.8, 6.2, 5.1, 4.9, 6.1, 6.4, 7.0, 6.5, 6.8, 4.9, 6.0, 6.2, 5.7, 6.6, 6.8, 6.3, 5.8, 5.8, 8.0, 5.5, 5.2, 5.5, 6.0, 7.2, 7.2, 5.1, 6.5, 5.6, 6.0, 6.4, 6.3, 6.3, 5.5, 4.4, 4.4, 6.6, 5.8, 5.2, 5.3, 4.6, 6.2, 4.7, 4.7, 5.1, 5.4, 5.4, 7.5, 6.7, 7.2, 6.2, 7.5, 7.1, 7.3, 6.8, 7.4, 7.0, 6.8, 4.4, 7.1, 4.0, 5.9, 6.9, 3.7, 5.3, 6.9, 6.1, 5.5, 5.1, 5.1, 6.0, 6.0, 5.9, 5.5, 5.7, 6.1, 5.0, 5.7, 5.6, 5.3, 5.7, 5.6, 5.4, 7.1, 6.6, 5.9, 6.3, 6.9, 3.9, 6.0, 6.5, 8.0, 5.1, 6.0, 5.8, 6.5, 6.6, 6.8, 7.0, 6.4, 5.5, 5.5, 6.1, 6.2, 7.1, 5.6, 5.6, 5.6, 5.4, 5.5, 5.3, 7.2, 7.1, 6.9, 5.9, 6.0, 6.5, 5.6, 5.8, 6.2, 5.8, 5.8, 7.2, 5.5, 6.2, 5.4, 7.4, 7.4, 7.0, 6.2, 5.6, 6.9, 6.8, 6.2, 6.6, 5.0, 6.0, 6.0, 7.3, 5.7, 5.3, 5.1, 5.5, 2.7, 3.0, 3.8, 5.4, 6.9, 6.0, 7.8, 4.0, 4.5, 5.2, 6.6, 6.6, 6.6, 6.0, 5.7, 5.2, 6.0, 5.7, 6.1, 6.1, 5.0, 5.0, 6.1, 6.4, 6.4, 7.6, 7.0, 6.7, 6.1, 6.6, 4.1, 7.0, 5.5, 7.5, 7.2, 5.0, 6.2, 7.0, 4.8, 6.4, 5.0, 7.3, 8.0, 7.1, 5.7, 7.9, 8.0, 6.4, 5.3, 6.0, 6.7, 8.5, 7.9, 6.2, 7.7, 4.5, 7.9, 8.0, 7.3, 6.8, 8.0, 6.5, 8.2, 8.5, 6.3, 6.1, 6.1, 5.9, 5.0, 7.0, 6.5, 5.9, 7.0, 5.2, 7.1, 6.0, 6.2, 5.6, 6.4, 5.2, 5.4, 7.5, 6.9, 7.0, 7.4, 8.0, 6.3, 7.4, 5.7, 2.8, 9.5, 6.5, 8.2, 9.6, 8.0, 8.2, 6.4, 6.0, 8.0, 8.3, 6.0, 7.4, 7.0, 6.0, 8.0, 7.9, 8.6, 8.0, 7.5, 7.0, 8.6, 7.8, 7.1, 7.7, 8.3, 8.0, 7.9, 6.9, 7.9, 7.4, 8.2, 6.7, 6.8, 8.4, 6.9, 7.9, 7.3, 4.6, 8.2, 8.0, 8.1, 7.2, 8.5, 7.9, 7.8, 6.7, 7.1, 6.8, 7.8, 8.1, 5.8, 5.2, 7.1, 6.7, 5.4, 6.7, 8.3, 7.6, 6.0, 7.3, 6.1, 5.4, 6.2, 5.9, 7.4, 8.9, 6.2, 6.4, 6.1, 5.9, 6.2, 6.6, 7.0, 5.6, 8.2, 5.6, 6.9, 7.0, 6.1, 6.6, 5.7, 5.3, 8.2, 7.2, 7.5, 8.0, 8.5, 6.8, 5.6, 8.4, 6.6, 6.8, 6.2, 8.5, 6.8, 5.3, 7.2, 6.1, 7.2, 7.0, 7.8, 7.2, 8.7, 7.6, 7.0, 6.8, 7.0, 6.1, 7.3, 7.3, 7.3, 8.1, 6.7, 4.9, 6.5, 7.4, 7.5, 6.9, 7.3, 6.3, 6.0, 6.9, 6.3, 8.0, 5.9, 6.3, 6.4, 6.3, 7.1, 6.0, 6.4, 6.8, 8.1, 6.3, 6.8, 7.6, 6.7, 7.2, 7.5, 6.5, 5.0, 6.9, 7.1, 4.6, 5.2, 3.6, 6.3, 7.1, 7.0, 6.7, 6.4, 7.1, 6.9, 6.5, 7.0, 4.3, 5.6, 7.0, 6.9, 5.5, 4.8, 6.7, 7.5, 7.6, 7.5, 7.1, 6.2, 5.2, 3.8, 6.2, 7.0, 4.1, 4.6, 6.2, 6.3, 7.3, 5.5, 7.7, 6.0, 6.2, 6.0, 7.2, 7.1, 7.1, 7.0, 6.8, 7.4, 6.9, 3.6, 5.7, 5.5, 6.8, 6.4, 8.0, 4.5, 5.1, 4.9, 6.8, 5.3, 4.4, 7.1, 6.6, 5.8, 6.8, 6.0, 7.9, 5.5, 5.1, 6.9, 7.3, 7.9, 7.3, 7.2, 7.8, 5.0, 6.2, 6.7, 6.0, 7.0, 5.9, 6.7, 6.8, 7.9, 5.2, 6.5, 6.1, 8.0, 7.2, 6.5, 7.2, 6.0, 5.9, 4.9, 8.1, 5.5, 5.8, 5.6, 7.5, 7.5, 5.4, 9.2, 6.8, 5.8, 6.9, 8.4, 6.9, 6.7, 8.0, 7.2, 9.2, 8.6, 7.1, 7.9, 4.8, 6.8, 8.0, 6.4, 7.1, 6.3, 5.1, 7.0, 7.9, 8.2, 3.6, 8.0, 6.1, 6.9, 7.6, 6.4, 7.2, 7.0, 6.6, 7.3, 7.6, 7.0, 4.5, 5.4, 7.1, 6.9, 7.8, 5.6, 6.2, 5.8, 7.0, 6.5, 7.0, 6.1, 6.2, 7.5, 7.5, 6.5, 6.9, 7.8, 7.2, 5.9, 6.6, 7.8, 6.0, 6.9, 7.1, 5.4, 6.9, 5.6, 6.2, 6.6, 7.9, 5.3, 5.4, 5.9, 6.0, 6.4, 6.8, 7.3]}],\n",
       "                        {\"autosize\": true, \"hovermode\": \"closest\", \"showlegend\": false, \"template\": {\"data\": {\"bar\": [{\"error_x\": {\"color\": \"#2a3f5f\"}, \"error_y\": {\"color\": \"#2a3f5f\"}, \"marker\": {\"line\": {\"color\": \"#E5ECF6\", \"width\": 0.5}}, \"type\": \"bar\"}], \"barpolar\": [{\"marker\": {\"line\": {\"color\": \"#E5ECF6\", \"width\": 0.5}}, \"type\": \"barpolar\"}], \"carpet\": [{\"aaxis\": {\"endlinecolor\": \"#2a3f5f\", \"gridcolor\": \"white\", \"linecolor\": \"white\", \"minorgridcolor\": \"white\", \"startlinecolor\": \"#2a3f5f\"}, \"baxis\": {\"endlinecolor\": \"#2a3f5f\", \"gridcolor\": \"white\", \"linecolor\": \"white\", \"minorgridcolor\": \"white\", \"startlinecolor\": \"#2a3f5f\"}, \"type\": \"carpet\"}], \"choropleth\": [{\"colorbar\": {\"outlinewidth\": 0, \"ticks\": \"\"}, \"type\": \"choropleth\"}], \"contour\": [{\"colorbar\": {\"outlinewidth\": 0, \"ticks\": \"\"}, \"colorscale\": [[0.0, \"#0d0887\"], [0.1111111111111111, \"#46039f\"], [0.2222222222222222, \"#7201a8\"], [0.3333333333333333, \"#9c179e\"], [0.4444444444444444, \"#bd3786\"], [0.5555555555555556, \"#d8576b\"], [0.6666666666666666, \"#ed7953\"], [0.7777777777777778, \"#fb9f3a\"], [0.8888888888888888, \"#fdca26\"], [1.0, \"#f0f921\"]], \"type\": \"contour\"}], \"contourcarpet\": [{\"colorbar\": {\"outlinewidth\": 0, \"ticks\": \"\"}, \"type\": \"contourcarpet\"}], \"heatmap\": [{\"colorbar\": {\"outlinewidth\": 0, \"ticks\": \"\"}, \"colorscale\": [[0.0, \"#0d0887\"], [0.1111111111111111, \"#46039f\"], [0.2222222222222222, \"#7201a8\"], [0.3333333333333333, \"#9c179e\"], [0.4444444444444444, \"#bd3786\"], [0.5555555555555556, \"#d8576b\"], [0.6666666666666666, \"#ed7953\"], [0.7777777777777778, \"#fb9f3a\"], [0.8888888888888888, \"#fdca26\"], [1.0, \"#f0f921\"]], \"type\": \"heatmap\"}], \"heatmapgl\": [{\"colorbar\": {\"outlinewidth\": 0, \"ticks\": \"\"}, \"colorscale\": [[0.0, \"#0d0887\"], [0.1111111111111111, \"#46039f\"], [0.2222222222222222, \"#7201a8\"], [0.3333333333333333, \"#9c179e\"], [0.4444444444444444, \"#bd3786\"], [0.5555555555555556, \"#d8576b\"], [0.6666666666666666, \"#ed7953\"], [0.7777777777777778, \"#fb9f3a\"], [0.8888888888888888, \"#fdca26\"], [1.0, \"#f0f921\"]], \"type\": \"heatmapgl\"}], \"histogram\": [{\"marker\": {\"colorbar\": {\"outlinewidth\": 0, \"ticks\": \"\"}}, \"type\": \"histogram\"}], \"histogram2d\": [{\"colorbar\": {\"outlinewidth\": 0, \"ticks\": \"\"}, \"colorscale\": [[0.0, \"#0d0887\"], [0.1111111111111111, \"#46039f\"], [0.2222222222222222, \"#7201a8\"], [0.3333333333333333, \"#9c179e\"], [0.4444444444444444, \"#bd3786\"], [0.5555555555555556, \"#d8576b\"], [0.6666666666666666, \"#ed7953\"], [0.7777777777777778, \"#fb9f3a\"], [0.8888888888888888, \"#fdca26\"], [1.0, \"#f0f921\"]], \"type\": \"histogram2d\"}], \"histogram2dcontour\": [{\"colorbar\": {\"outlinewidth\": 0, \"ticks\": \"\"}, \"colorscale\": [[0.0, \"#0d0887\"], [0.1111111111111111, \"#46039f\"], [0.2222222222222222, \"#7201a8\"], [0.3333333333333333, \"#9c179e\"], [0.4444444444444444, \"#bd3786\"], [0.5555555555555556, \"#d8576b\"], [0.6666666666666666, \"#ed7953\"], [0.7777777777777778, \"#fb9f3a\"], [0.8888888888888888, \"#fdca26\"], [1.0, \"#f0f921\"]], \"type\": \"histogram2dcontour\"}], \"mesh3d\": [{\"colorbar\": {\"outlinewidth\": 0, \"ticks\": \"\"}, \"type\": \"mesh3d\"}], \"parcoords\": [{\"line\": {\"colorbar\": {\"outlinewidth\": 0, \"ticks\": \"\"}}, \"type\": \"parcoords\"}], \"pie\": [{\"automargin\": true, \"type\": \"pie\"}], \"scatter\": [{\"marker\": {\"colorbar\": {\"outlinewidth\": 0, \"ticks\": \"\"}}, \"type\": \"scatter\"}], \"scatter3d\": [{\"line\": {\"colorbar\": {\"outlinewidth\": 0, \"ticks\": \"\"}}, \"marker\": {\"colorbar\": {\"outlinewidth\": 0, \"ticks\": \"\"}}, \"type\": \"scatter3d\"}], \"scattercarpet\": [{\"marker\": {\"colorbar\": {\"outlinewidth\": 0, \"ticks\": \"\"}}, \"type\": \"scattercarpet\"}], \"scattergeo\": [{\"marker\": {\"colorbar\": {\"outlinewidth\": 0, \"ticks\": \"\"}}, \"type\": \"scattergeo\"}], \"scattergl\": [{\"marker\": {\"colorbar\": {\"outlinewidth\": 0, \"ticks\": \"\"}}, \"type\": \"scattergl\"}], \"scattermapbox\": [{\"marker\": {\"colorbar\": {\"outlinewidth\": 0, \"ticks\": \"\"}}, \"type\": \"scattermapbox\"}], \"scatterpolar\": [{\"marker\": {\"colorbar\": {\"outlinewidth\": 0, \"ticks\": \"\"}}, \"type\": \"scatterpolar\"}], \"scatterpolargl\": [{\"marker\": {\"colorbar\": {\"outlinewidth\": 0, \"ticks\": \"\"}}, \"type\": \"scatterpolargl\"}], \"scatterternary\": [{\"marker\": {\"colorbar\": {\"outlinewidth\": 0, \"ticks\": \"\"}}, \"type\": \"scatterternary\"}], \"surface\": [{\"colorbar\": {\"outlinewidth\": 0, \"ticks\": \"\"}, \"colorscale\": [[0.0, \"#0d0887\"], [0.1111111111111111, \"#46039f\"], [0.2222222222222222, \"#7201a8\"], [0.3333333333333333, \"#9c179e\"], [0.4444444444444444, \"#bd3786\"], [0.5555555555555556, \"#d8576b\"], [0.6666666666666666, \"#ed7953\"], [0.7777777777777778, \"#fb9f3a\"], [0.8888888888888888, \"#fdca26\"], [1.0, \"#f0f921\"]], \"type\": \"surface\"}], \"table\": [{\"cells\": {\"fill\": {\"color\": \"#EBF0F8\"}, \"line\": {\"color\": \"white\"}}, \"header\": {\"fill\": {\"color\": \"#C8D4E3\"}, \"line\": {\"color\": \"white\"}}, \"type\": \"table\"}]}, \"layout\": {\"annotationdefaults\": {\"arrowcolor\": \"#2a3f5f\", \"arrowhead\": 0, \"arrowwidth\": 1}, \"coloraxis\": {\"colorbar\": {\"outlinewidth\": 0, \"ticks\": \"\"}}, \"colorscale\": {\"diverging\": [[0, \"#8e0152\"], [0.1, \"#c51b7d\"], [0.2, \"#de77ae\"], [0.3, \"#f1b6da\"], [0.4, \"#fde0ef\"], [0.5, \"#f7f7f7\"], [0.6, \"#e6f5d0\"], [0.7, \"#b8e186\"], [0.8, \"#7fbc41\"], [0.9, \"#4d9221\"], [1, \"#276419\"]], \"sequential\": [[0.0, \"#0d0887\"], [0.1111111111111111, \"#46039f\"], [0.2222222222222222, \"#7201a8\"], [0.3333333333333333, \"#9c179e\"], [0.4444444444444444, \"#bd3786\"], [0.5555555555555556, \"#d8576b\"], [0.6666666666666666, \"#ed7953\"], [0.7777777777777778, \"#fb9f3a\"], [0.8888888888888888, \"#fdca26\"], [1.0, \"#f0f921\"]], \"sequentialminus\": [[0.0, \"#0d0887\"], [0.1111111111111111, \"#46039f\"], [0.2222222222222222, \"#7201a8\"], [0.3333333333333333, \"#9c179e\"], [0.4444444444444444, \"#bd3786\"], [0.5555555555555556, \"#d8576b\"], [0.6666666666666666, \"#ed7953\"], [0.7777777777777778, \"#fb9f3a\"], [0.8888888888888888, \"#fdca26\"], [1.0, \"#f0f921\"]]}, \"colorway\": [\"#636efa\", \"#EF553B\", \"#00cc96\", \"#ab63fa\", \"#FFA15A\", \"#19d3f3\", \"#FF6692\", \"#B6E880\", \"#FF97FF\", \"#FECB52\"], \"font\": {\"color\": \"#2a3f5f\"}, \"geo\": {\"bgcolor\": \"white\", \"lakecolor\": \"white\", \"landcolor\": \"#E5ECF6\", \"showlakes\": true, \"showland\": true, \"subunitcolor\": \"white\"}, \"hoverlabel\": {\"align\": \"left\"}, \"hovermode\": \"closest\", \"mapbox\": {\"style\": \"light\"}, \"paper_bgcolor\": \"white\", \"plot_bgcolor\": \"#E5ECF6\", \"polar\": {\"angularaxis\": {\"gridcolor\": \"white\", \"linecolor\": \"white\", \"ticks\": \"\"}, \"bgcolor\": \"#E5ECF6\", \"radialaxis\": {\"gridcolor\": \"white\", \"linecolor\": \"white\", \"ticks\": \"\"}}, \"scene\": {\"xaxis\": {\"backgroundcolor\": \"#E5ECF6\", \"gridcolor\": \"white\", \"gridwidth\": 2, \"linecolor\": \"white\", \"showbackground\": true, \"ticks\": \"\", \"zerolinecolor\": \"white\"}, \"yaxis\": {\"backgroundcolor\": \"#E5ECF6\", \"gridcolor\": \"white\", \"gridwidth\": 2, \"linecolor\": \"white\", \"showbackground\": true, \"ticks\": \"\", \"zerolinecolor\": \"white\"}, \"zaxis\": {\"backgroundcolor\": \"#E5ECF6\", \"gridcolor\": \"white\", \"gridwidth\": 2, \"linecolor\": \"white\", \"showbackground\": true, \"ticks\": \"\", \"zerolinecolor\": \"white\"}}, \"shapedefaults\": {\"line\": {\"color\": \"#2a3f5f\"}}, \"ternary\": {\"aaxis\": {\"gridcolor\": \"white\", \"linecolor\": \"white\", \"ticks\": \"\"}, \"baxis\": {\"gridcolor\": \"white\", \"linecolor\": \"white\", \"ticks\": \"\"}, \"bgcolor\": \"#E5ECF6\", \"caxis\": {\"gridcolor\": \"white\", \"linecolor\": \"white\", \"ticks\": \"\"}}, \"title\": {\"x\": 0.05}, \"xaxis\": {\"automargin\": true, \"gridcolor\": \"white\", \"linecolor\": \"white\", \"ticks\": \"\", \"title\": {\"standoff\": 15}, \"zerolinecolor\": \"white\", \"zerolinewidth\": 2}, \"yaxis\": {\"automargin\": true, \"gridcolor\": \"white\", \"linecolor\": \"white\", \"ticks\": \"\", \"title\": {\"standoff\": 15}, \"zerolinecolor\": \"white\", \"zerolinewidth\": 2}}}, \"title\": {\"text\": \"Scatter plot of Total Proteins in Male and Females\"}, \"xaxis\": {\"gridwidth\": 0.1, \"ticklen\": 10, \"title\": {\"text\": \"Age\"}}, \"yaxis\": {\"gridwidth\": 0.1, \"ticklen\": 10, \"title\": {\"text\": \"Total Protein\"}}},\n",
       "                        {\"responsive\": true}\n",
       "                    ).then(function(){\n",
       "                            \n",
       "var gd = document.getElementById('51bce769-fed3-41e1-9f8c-f8eb5051d1b4');\n",
       "var x = new MutationObserver(function (mutations, observer) {{\n",
       "        var display = window.getComputedStyle(gd).display;\n",
       "        if (!display || display === 'none') {{\n",
       "            console.log([gd, 'removed!']);\n",
       "            Plotly.purge(gd);\n",
       "            observer.disconnect();\n",
       "        }}\n",
       "}});\n",
       "\n",
       "// Listen for the removal of the full notebook cells\n",
       "var notebookContainer = gd.closest('#notebook-container');\n",
       "if (notebookContainer) {{\n",
       "    x.observe(notebookContainer, {childList: true});\n",
       "}}\n",
       "\n",
       "// Listen for the clearing of the current output cell\n",
       "var outputEl = gd.closest('.output');\n",
       "if (outputEl) {{\n",
       "    x.observe(outputEl, {childList: true});\n",
       "}}\n",
       "\n",
       "                        })\n",
       "                };\n",
       "                });\n",
       "            </script>\n",
       "        </div>"
      ]
     },
     "metadata": {},
     "output_type": "display_data"
    }
   ],
   "source": [
    "\n",
    "fig = go.Figure(data=x, layout=layout)\n",
    "py.iplot(fig,filename='Plotly')"
   ]
  },
  {
   "cell_type": "code",
   "execution_count": 22,
   "metadata": {},
   "outputs": [
    {
     "data": {
      "application/vnd.plotly.v1+json": {
       "config": {
        "plotlyServerURL": "https://plot.ly"
       },
       "data": [
        {
         "mode": "lines+markers+text",
         "name": "Lines, Markers and Text",
         "text": [
          "Text A",
          "Text B",
          "Text C"
         ],
         "textposition": "top center",
         "type": "scatter",
         "x": [
          0,
          1,
          2
         ],
         "y": [
          1,
          1,
          1
         ]
        },
        {
         "mode": "markers+text",
         "name": "Markers and Text",
         "text": [
          "Text D",
          "Text E",
          "Text F"
         ],
         "textposition": "bottom center",
         "type": "scatter",
         "x": [
          0,
          1,
          2
         ],
         "y": [
          2,
          2,
          2
         ]
        },
        {
         "mode": "lines+text",
         "name": "Lines and Text",
         "text": [
          "Text G",
          "Text H",
          "Text I"
         ],
         "textposition": "bottom center",
         "type": "scatter",
         "x": [
          0,
          1,
          2
         ],
         "y": [
          3,
          3,
          3
         ]
        }
       ],
       "layout": {
        "template": {
         "data": {
          "bar": [
           {
            "error_x": {
             "color": "#2a3f5f"
            },
            "error_y": {
             "color": "#2a3f5f"
            },
            "marker": {
             "line": {
              "color": "#E5ECF6",
              "width": 0.5
             }
            },
            "type": "bar"
           }
          ],
          "barpolar": [
           {
            "marker": {
             "line": {
              "color": "#E5ECF6",
              "width": 0.5
             }
            },
            "type": "barpolar"
           }
          ],
          "carpet": [
           {
            "aaxis": {
             "endlinecolor": "#2a3f5f",
             "gridcolor": "white",
             "linecolor": "white",
             "minorgridcolor": "white",
             "startlinecolor": "#2a3f5f"
            },
            "baxis": {
             "endlinecolor": "#2a3f5f",
             "gridcolor": "white",
             "linecolor": "white",
             "minorgridcolor": "white",
             "startlinecolor": "#2a3f5f"
            },
            "type": "carpet"
           }
          ],
          "choropleth": [
           {
            "colorbar": {
             "outlinewidth": 0,
             "ticks": ""
            },
            "type": "choropleth"
           }
          ],
          "contour": [
           {
            "colorbar": {
             "outlinewidth": 0,
             "ticks": ""
            },
            "colorscale": [
             [
              0,
              "#0d0887"
             ],
             [
              0.1111111111111111,
              "#46039f"
             ],
             [
              0.2222222222222222,
              "#7201a8"
             ],
             [
              0.3333333333333333,
              "#9c179e"
             ],
             [
              0.4444444444444444,
              "#bd3786"
             ],
             [
              0.5555555555555556,
              "#d8576b"
             ],
             [
              0.6666666666666666,
              "#ed7953"
             ],
             [
              0.7777777777777778,
              "#fb9f3a"
             ],
             [
              0.8888888888888888,
              "#fdca26"
             ],
             [
              1,
              "#f0f921"
             ]
            ],
            "type": "contour"
           }
          ],
          "contourcarpet": [
           {
            "colorbar": {
             "outlinewidth": 0,
             "ticks": ""
            },
            "type": "contourcarpet"
           }
          ],
          "heatmap": [
           {
            "colorbar": {
             "outlinewidth": 0,
             "ticks": ""
            },
            "colorscale": [
             [
              0,
              "#0d0887"
             ],
             [
              0.1111111111111111,
              "#46039f"
             ],
             [
              0.2222222222222222,
              "#7201a8"
             ],
             [
              0.3333333333333333,
              "#9c179e"
             ],
             [
              0.4444444444444444,
              "#bd3786"
             ],
             [
              0.5555555555555556,
              "#d8576b"
             ],
             [
              0.6666666666666666,
              "#ed7953"
             ],
             [
              0.7777777777777778,
              "#fb9f3a"
             ],
             [
              0.8888888888888888,
              "#fdca26"
             ],
             [
              1,
              "#f0f921"
             ]
            ],
            "type": "heatmap"
           }
          ],
          "heatmapgl": [
           {
            "colorbar": {
             "outlinewidth": 0,
             "ticks": ""
            },
            "colorscale": [
             [
              0,
              "#0d0887"
             ],
             [
              0.1111111111111111,
              "#46039f"
             ],
             [
              0.2222222222222222,
              "#7201a8"
             ],
             [
              0.3333333333333333,
              "#9c179e"
             ],
             [
              0.4444444444444444,
              "#bd3786"
             ],
             [
              0.5555555555555556,
              "#d8576b"
             ],
             [
              0.6666666666666666,
              "#ed7953"
             ],
             [
              0.7777777777777778,
              "#fb9f3a"
             ],
             [
              0.8888888888888888,
              "#fdca26"
             ],
             [
              1,
              "#f0f921"
             ]
            ],
            "type": "heatmapgl"
           }
          ],
          "histogram": [
           {
            "marker": {
             "colorbar": {
              "outlinewidth": 0,
              "ticks": ""
             }
            },
            "type": "histogram"
           }
          ],
          "histogram2d": [
           {
            "colorbar": {
             "outlinewidth": 0,
             "ticks": ""
            },
            "colorscale": [
             [
              0,
              "#0d0887"
             ],
             [
              0.1111111111111111,
              "#46039f"
             ],
             [
              0.2222222222222222,
              "#7201a8"
             ],
             [
              0.3333333333333333,
              "#9c179e"
             ],
             [
              0.4444444444444444,
              "#bd3786"
             ],
             [
              0.5555555555555556,
              "#d8576b"
             ],
             [
              0.6666666666666666,
              "#ed7953"
             ],
             [
              0.7777777777777778,
              "#fb9f3a"
             ],
             [
              0.8888888888888888,
              "#fdca26"
             ],
             [
              1,
              "#f0f921"
             ]
            ],
            "type": "histogram2d"
           }
          ],
          "histogram2dcontour": [
           {
            "colorbar": {
             "outlinewidth": 0,
             "ticks": ""
            },
            "colorscale": [
             [
              0,
              "#0d0887"
             ],
             [
              0.1111111111111111,
              "#46039f"
             ],
             [
              0.2222222222222222,
              "#7201a8"
             ],
             [
              0.3333333333333333,
              "#9c179e"
             ],
             [
              0.4444444444444444,
              "#bd3786"
             ],
             [
              0.5555555555555556,
              "#d8576b"
             ],
             [
              0.6666666666666666,
              "#ed7953"
             ],
             [
              0.7777777777777778,
              "#fb9f3a"
             ],
             [
              0.8888888888888888,
              "#fdca26"
             ],
             [
              1,
              "#f0f921"
             ]
            ],
            "type": "histogram2dcontour"
           }
          ],
          "mesh3d": [
           {
            "colorbar": {
             "outlinewidth": 0,
             "ticks": ""
            },
            "type": "mesh3d"
           }
          ],
          "parcoords": [
           {
            "line": {
             "colorbar": {
              "outlinewidth": 0,
              "ticks": ""
             }
            },
            "type": "parcoords"
           }
          ],
          "pie": [
           {
            "automargin": true,
            "type": "pie"
           }
          ],
          "scatter": [
           {
            "marker": {
             "colorbar": {
              "outlinewidth": 0,
              "ticks": ""
             }
            },
            "type": "scatter"
           }
          ],
          "scatter3d": [
           {
            "line": {
             "colorbar": {
              "outlinewidth": 0,
              "ticks": ""
             }
            },
            "marker": {
             "colorbar": {
              "outlinewidth": 0,
              "ticks": ""
             }
            },
            "type": "scatter3d"
           }
          ],
          "scattercarpet": [
           {
            "marker": {
             "colorbar": {
              "outlinewidth": 0,
              "ticks": ""
             }
            },
            "type": "scattercarpet"
           }
          ],
          "scattergeo": [
           {
            "marker": {
             "colorbar": {
              "outlinewidth": 0,
              "ticks": ""
             }
            },
            "type": "scattergeo"
           }
          ],
          "scattergl": [
           {
            "marker": {
             "colorbar": {
              "outlinewidth": 0,
              "ticks": ""
             }
            },
            "type": "scattergl"
           }
          ],
          "scattermapbox": [
           {
            "marker": {
             "colorbar": {
              "outlinewidth": 0,
              "ticks": ""
             }
            },
            "type": "scattermapbox"
           }
          ],
          "scatterpolar": [
           {
            "marker": {
             "colorbar": {
              "outlinewidth": 0,
              "ticks": ""
             }
            },
            "type": "scatterpolar"
           }
          ],
          "scatterpolargl": [
           {
            "marker": {
             "colorbar": {
              "outlinewidth": 0,
              "ticks": ""
             }
            },
            "type": "scatterpolargl"
           }
          ],
          "scatterternary": [
           {
            "marker": {
             "colorbar": {
              "outlinewidth": 0,
              "ticks": ""
             }
            },
            "type": "scatterternary"
           }
          ],
          "surface": [
           {
            "colorbar": {
             "outlinewidth": 0,
             "ticks": ""
            },
            "colorscale": [
             [
              0,
              "#0d0887"
             ],
             [
              0.1111111111111111,
              "#46039f"
             ],
             [
              0.2222222222222222,
              "#7201a8"
             ],
             [
              0.3333333333333333,
              "#9c179e"
             ],
             [
              0.4444444444444444,
              "#bd3786"
             ],
             [
              0.5555555555555556,
              "#d8576b"
             ],
             [
              0.6666666666666666,
              "#ed7953"
             ],
             [
              0.7777777777777778,
              "#fb9f3a"
             ],
             [
              0.8888888888888888,
              "#fdca26"
             ],
             [
              1,
              "#f0f921"
             ]
            ],
            "type": "surface"
           }
          ],
          "table": [
           {
            "cells": {
             "fill": {
              "color": "#EBF0F8"
             },
             "line": {
              "color": "white"
             }
            },
            "header": {
             "fill": {
              "color": "#C8D4E3"
             },
             "line": {
              "color": "white"
             }
            },
            "type": "table"
           }
          ]
         },
         "layout": {
          "annotationdefaults": {
           "arrowcolor": "#2a3f5f",
           "arrowhead": 0,
           "arrowwidth": 1
          },
          "coloraxis": {
           "colorbar": {
            "outlinewidth": 0,
            "ticks": ""
           }
          },
          "colorscale": {
           "diverging": [
            [
             0,
             "#8e0152"
            ],
            [
             0.1,
             "#c51b7d"
            ],
            [
             0.2,
             "#de77ae"
            ],
            [
             0.3,
             "#f1b6da"
            ],
            [
             0.4,
             "#fde0ef"
            ],
            [
             0.5,
             "#f7f7f7"
            ],
            [
             0.6,
             "#e6f5d0"
            ],
            [
             0.7,
             "#b8e186"
            ],
            [
             0.8,
             "#7fbc41"
            ],
            [
             0.9,
             "#4d9221"
            ],
            [
             1,
             "#276419"
            ]
           ],
           "sequential": [
            [
             0,
             "#0d0887"
            ],
            [
             0.1111111111111111,
             "#46039f"
            ],
            [
             0.2222222222222222,
             "#7201a8"
            ],
            [
             0.3333333333333333,
             "#9c179e"
            ],
            [
             0.4444444444444444,
             "#bd3786"
            ],
            [
             0.5555555555555556,
             "#d8576b"
            ],
            [
             0.6666666666666666,
             "#ed7953"
            ],
            [
             0.7777777777777778,
             "#fb9f3a"
            ],
            [
             0.8888888888888888,
             "#fdca26"
            ],
            [
             1,
             "#f0f921"
            ]
           ],
           "sequentialminus": [
            [
             0,
             "#0d0887"
            ],
            [
             0.1111111111111111,
             "#46039f"
            ],
            [
             0.2222222222222222,
             "#7201a8"
            ],
            [
             0.3333333333333333,
             "#9c179e"
            ],
            [
             0.4444444444444444,
             "#bd3786"
            ],
            [
             0.5555555555555556,
             "#d8576b"
            ],
            [
             0.6666666666666666,
             "#ed7953"
            ],
            [
             0.7777777777777778,
             "#fb9f3a"
            ],
            [
             0.8888888888888888,
             "#fdca26"
            ],
            [
             1,
             "#f0f921"
            ]
           ]
          },
          "colorway": [
           "#636efa",
           "#EF553B",
           "#00cc96",
           "#ab63fa",
           "#FFA15A",
           "#19d3f3",
           "#FF6692",
           "#B6E880",
           "#FF97FF",
           "#FECB52"
          ],
          "font": {
           "color": "#2a3f5f"
          },
          "geo": {
           "bgcolor": "white",
           "lakecolor": "white",
           "landcolor": "#E5ECF6",
           "showlakes": true,
           "showland": true,
           "subunitcolor": "white"
          },
          "hoverlabel": {
           "align": "left"
          },
          "hovermode": "closest",
          "mapbox": {
           "style": "light"
          },
          "paper_bgcolor": "white",
          "plot_bgcolor": "#E5ECF6",
          "polar": {
           "angularaxis": {
            "gridcolor": "white",
            "linecolor": "white",
            "ticks": ""
           },
           "bgcolor": "#E5ECF6",
           "radialaxis": {
            "gridcolor": "white",
            "linecolor": "white",
            "ticks": ""
           }
          },
          "scene": {
           "xaxis": {
            "backgroundcolor": "#E5ECF6",
            "gridcolor": "white",
            "gridwidth": 2,
            "linecolor": "white",
            "showbackground": true,
            "ticks": "",
            "zerolinecolor": "white"
           },
           "yaxis": {
            "backgroundcolor": "#E5ECF6",
            "gridcolor": "white",
            "gridwidth": 2,
            "linecolor": "white",
            "showbackground": true,
            "ticks": "",
            "zerolinecolor": "white"
           },
           "zaxis": {
            "backgroundcolor": "#E5ECF6",
            "gridcolor": "white",
            "gridwidth": 2,
            "linecolor": "white",
            "showbackground": true,
            "ticks": "",
            "zerolinecolor": "white"
           }
          },
          "shapedefaults": {
           "line": {
            "color": "#2a3f5f"
           }
          },
          "ternary": {
           "aaxis": {
            "gridcolor": "white",
            "linecolor": "white",
            "ticks": ""
           },
           "baxis": {
            "gridcolor": "white",
            "linecolor": "white",
            "ticks": ""
           },
           "bgcolor": "#E5ECF6",
           "caxis": {
            "gridcolor": "white",
            "linecolor": "white",
            "ticks": ""
           }
          },
          "title": {
           "x": 0.05
          },
          "xaxis": {
           "automargin": true,
           "gridcolor": "white",
           "linecolor": "white",
           "ticks": "",
           "title": {
            "standoff": 15
           },
           "zerolinecolor": "white",
           "zerolinewidth": 2
          },
          "yaxis": {
           "automargin": true,
           "gridcolor": "white",
           "linecolor": "white",
           "ticks": "",
           "title": {
            "standoff": 15
           },
           "zerolinecolor": "white",
           "zerolinewidth": 2
          }
         }
        }
       }
      },
      "text/html": [
       "<div>\n",
       "        \n",
       "        \n",
       "            <div id=\"c6d1a28f-ddd0-473a-b27d-1780d0f12bb4\" class=\"plotly-graph-div\" style=\"height:525px; width:100%;\"></div>\n",
       "            <script type=\"text/javascript\">\n",
       "                require([\"plotly\"], function(Plotly) {\n",
       "                    window.PLOTLYENV=window.PLOTLYENV || {};\n",
       "                    \n",
       "                if (document.getElementById(\"c6d1a28f-ddd0-473a-b27d-1780d0f12bb4\")) {\n",
       "                    Plotly.newPlot(\n",
       "                        'c6d1a28f-ddd0-473a-b27d-1780d0f12bb4',\n",
       "                        [{\"mode\": \"lines+markers+text\", \"name\": \"Lines, Markers and Text\", \"text\": [\"Text A\", \"Text B\", \"Text C\"], \"textposition\": \"top center\", \"type\": \"scatter\", \"x\": [0, 1, 2], \"y\": [1, 1, 1]}, {\"mode\": \"markers+text\", \"name\": \"Markers and Text\", \"text\": [\"Text D\", \"Text E\", \"Text F\"], \"textposition\": \"bottom center\", \"type\": \"scatter\", \"x\": [0, 1, 2], \"y\": [2, 2, 2]}, {\"mode\": \"lines+text\", \"name\": \"Lines and Text\", \"text\": [\"Text G\", \"Text H\", \"Text I\"], \"textposition\": \"bottom center\", \"type\": \"scatter\", \"x\": [0, 1, 2], \"y\": [3, 3, 3]}],\n",
       "                        {\"template\": {\"data\": {\"bar\": [{\"error_x\": {\"color\": \"#2a3f5f\"}, \"error_y\": {\"color\": \"#2a3f5f\"}, \"marker\": {\"line\": {\"color\": \"#E5ECF6\", \"width\": 0.5}}, \"type\": \"bar\"}], \"barpolar\": [{\"marker\": {\"line\": {\"color\": \"#E5ECF6\", \"width\": 0.5}}, \"type\": \"barpolar\"}], \"carpet\": [{\"aaxis\": {\"endlinecolor\": \"#2a3f5f\", \"gridcolor\": \"white\", \"linecolor\": \"white\", \"minorgridcolor\": \"white\", \"startlinecolor\": \"#2a3f5f\"}, \"baxis\": {\"endlinecolor\": \"#2a3f5f\", \"gridcolor\": \"white\", \"linecolor\": \"white\", \"minorgridcolor\": \"white\", \"startlinecolor\": \"#2a3f5f\"}, \"type\": \"carpet\"}], \"choropleth\": [{\"colorbar\": {\"outlinewidth\": 0, \"ticks\": \"\"}, \"type\": \"choropleth\"}], \"contour\": [{\"colorbar\": {\"outlinewidth\": 0, \"ticks\": \"\"}, \"colorscale\": [[0.0, \"#0d0887\"], [0.1111111111111111, \"#46039f\"], [0.2222222222222222, \"#7201a8\"], [0.3333333333333333, \"#9c179e\"], [0.4444444444444444, \"#bd3786\"], [0.5555555555555556, \"#d8576b\"], [0.6666666666666666, \"#ed7953\"], [0.7777777777777778, \"#fb9f3a\"], [0.8888888888888888, \"#fdca26\"], [1.0, \"#f0f921\"]], \"type\": \"contour\"}], \"contourcarpet\": [{\"colorbar\": {\"outlinewidth\": 0, \"ticks\": \"\"}, \"type\": \"contourcarpet\"}], \"heatmap\": [{\"colorbar\": {\"outlinewidth\": 0, \"ticks\": \"\"}, \"colorscale\": [[0.0, \"#0d0887\"], [0.1111111111111111, \"#46039f\"], [0.2222222222222222, \"#7201a8\"], [0.3333333333333333, \"#9c179e\"], [0.4444444444444444, \"#bd3786\"], [0.5555555555555556, \"#d8576b\"], [0.6666666666666666, \"#ed7953\"], [0.7777777777777778, \"#fb9f3a\"], [0.8888888888888888, \"#fdca26\"], [1.0, \"#f0f921\"]], \"type\": \"heatmap\"}], \"heatmapgl\": [{\"colorbar\": {\"outlinewidth\": 0, \"ticks\": \"\"}, \"colorscale\": [[0.0, \"#0d0887\"], [0.1111111111111111, \"#46039f\"], [0.2222222222222222, \"#7201a8\"], [0.3333333333333333, \"#9c179e\"], [0.4444444444444444, \"#bd3786\"], [0.5555555555555556, \"#d8576b\"], [0.6666666666666666, \"#ed7953\"], [0.7777777777777778, \"#fb9f3a\"], [0.8888888888888888, \"#fdca26\"], [1.0, \"#f0f921\"]], \"type\": \"heatmapgl\"}], \"histogram\": [{\"marker\": {\"colorbar\": {\"outlinewidth\": 0, \"ticks\": \"\"}}, \"type\": \"histogram\"}], \"histogram2d\": [{\"colorbar\": {\"outlinewidth\": 0, \"ticks\": \"\"}, \"colorscale\": [[0.0, \"#0d0887\"], [0.1111111111111111, \"#46039f\"], [0.2222222222222222, \"#7201a8\"], [0.3333333333333333, \"#9c179e\"], [0.4444444444444444, \"#bd3786\"], [0.5555555555555556, \"#d8576b\"], [0.6666666666666666, \"#ed7953\"], [0.7777777777777778, \"#fb9f3a\"], [0.8888888888888888, \"#fdca26\"], [1.0, \"#f0f921\"]], \"type\": \"histogram2d\"}], \"histogram2dcontour\": [{\"colorbar\": {\"outlinewidth\": 0, \"ticks\": \"\"}, \"colorscale\": [[0.0, \"#0d0887\"], [0.1111111111111111, \"#46039f\"], [0.2222222222222222, \"#7201a8\"], [0.3333333333333333, \"#9c179e\"], [0.4444444444444444, \"#bd3786\"], [0.5555555555555556, \"#d8576b\"], [0.6666666666666666, \"#ed7953\"], [0.7777777777777778, \"#fb9f3a\"], [0.8888888888888888, \"#fdca26\"], [1.0, \"#f0f921\"]], \"type\": \"histogram2dcontour\"}], \"mesh3d\": [{\"colorbar\": {\"outlinewidth\": 0, \"ticks\": \"\"}, \"type\": \"mesh3d\"}], \"parcoords\": [{\"line\": {\"colorbar\": {\"outlinewidth\": 0, \"ticks\": \"\"}}, \"type\": \"parcoords\"}], \"pie\": [{\"automargin\": true, \"type\": \"pie\"}], \"scatter\": [{\"marker\": {\"colorbar\": {\"outlinewidth\": 0, \"ticks\": \"\"}}, \"type\": \"scatter\"}], \"scatter3d\": [{\"line\": {\"colorbar\": {\"outlinewidth\": 0, \"ticks\": \"\"}}, \"marker\": {\"colorbar\": {\"outlinewidth\": 0, \"ticks\": \"\"}}, \"type\": \"scatter3d\"}], \"scattercarpet\": [{\"marker\": {\"colorbar\": {\"outlinewidth\": 0, \"ticks\": \"\"}}, \"type\": \"scattercarpet\"}], \"scattergeo\": [{\"marker\": {\"colorbar\": {\"outlinewidth\": 0, \"ticks\": \"\"}}, \"type\": \"scattergeo\"}], \"scattergl\": [{\"marker\": {\"colorbar\": {\"outlinewidth\": 0, \"ticks\": \"\"}}, \"type\": \"scattergl\"}], \"scattermapbox\": [{\"marker\": {\"colorbar\": {\"outlinewidth\": 0, \"ticks\": \"\"}}, \"type\": \"scattermapbox\"}], \"scatterpolar\": [{\"marker\": {\"colorbar\": {\"outlinewidth\": 0, \"ticks\": \"\"}}, \"type\": \"scatterpolar\"}], \"scatterpolargl\": [{\"marker\": {\"colorbar\": {\"outlinewidth\": 0, \"ticks\": \"\"}}, \"type\": \"scatterpolargl\"}], \"scatterternary\": [{\"marker\": {\"colorbar\": {\"outlinewidth\": 0, \"ticks\": \"\"}}, \"type\": \"scatterternary\"}], \"surface\": [{\"colorbar\": {\"outlinewidth\": 0, \"ticks\": \"\"}, \"colorscale\": [[0.0, \"#0d0887\"], [0.1111111111111111, \"#46039f\"], [0.2222222222222222, \"#7201a8\"], [0.3333333333333333, \"#9c179e\"], [0.4444444444444444, \"#bd3786\"], [0.5555555555555556, \"#d8576b\"], [0.6666666666666666, \"#ed7953\"], [0.7777777777777778, \"#fb9f3a\"], [0.8888888888888888, \"#fdca26\"], [1.0, \"#f0f921\"]], \"type\": \"surface\"}], \"table\": [{\"cells\": {\"fill\": {\"color\": \"#EBF0F8\"}, \"line\": {\"color\": \"white\"}}, \"header\": {\"fill\": {\"color\": \"#C8D4E3\"}, \"line\": {\"color\": \"white\"}}, \"type\": \"table\"}]}, \"layout\": {\"annotationdefaults\": {\"arrowcolor\": \"#2a3f5f\", \"arrowhead\": 0, \"arrowwidth\": 1}, \"coloraxis\": {\"colorbar\": {\"outlinewidth\": 0, \"ticks\": \"\"}}, \"colorscale\": {\"diverging\": [[0, \"#8e0152\"], [0.1, \"#c51b7d\"], [0.2, \"#de77ae\"], [0.3, \"#f1b6da\"], [0.4, \"#fde0ef\"], [0.5, \"#f7f7f7\"], [0.6, \"#e6f5d0\"], [0.7, \"#b8e186\"], [0.8, \"#7fbc41\"], [0.9, \"#4d9221\"], [1, \"#276419\"]], \"sequential\": [[0.0, \"#0d0887\"], [0.1111111111111111, \"#46039f\"], [0.2222222222222222, \"#7201a8\"], [0.3333333333333333, \"#9c179e\"], [0.4444444444444444, \"#bd3786\"], [0.5555555555555556, \"#d8576b\"], [0.6666666666666666, \"#ed7953\"], [0.7777777777777778, \"#fb9f3a\"], [0.8888888888888888, \"#fdca26\"], [1.0, \"#f0f921\"]], \"sequentialminus\": [[0.0, \"#0d0887\"], [0.1111111111111111, \"#46039f\"], [0.2222222222222222, \"#7201a8\"], [0.3333333333333333, \"#9c179e\"], [0.4444444444444444, \"#bd3786\"], [0.5555555555555556, \"#d8576b\"], [0.6666666666666666, \"#ed7953\"], [0.7777777777777778, \"#fb9f3a\"], [0.8888888888888888, \"#fdca26\"], [1.0, \"#f0f921\"]]}, \"colorway\": [\"#636efa\", \"#EF553B\", \"#00cc96\", \"#ab63fa\", \"#FFA15A\", \"#19d3f3\", \"#FF6692\", \"#B6E880\", \"#FF97FF\", \"#FECB52\"], \"font\": {\"color\": \"#2a3f5f\"}, \"geo\": {\"bgcolor\": \"white\", \"lakecolor\": \"white\", \"landcolor\": \"#E5ECF6\", \"showlakes\": true, \"showland\": true, \"subunitcolor\": \"white\"}, \"hoverlabel\": {\"align\": \"left\"}, \"hovermode\": \"closest\", \"mapbox\": {\"style\": \"light\"}, \"paper_bgcolor\": \"white\", \"plot_bgcolor\": \"#E5ECF6\", \"polar\": {\"angularaxis\": {\"gridcolor\": \"white\", \"linecolor\": \"white\", \"ticks\": \"\"}, \"bgcolor\": \"#E5ECF6\", \"radialaxis\": {\"gridcolor\": \"white\", \"linecolor\": \"white\", \"ticks\": \"\"}}, \"scene\": {\"xaxis\": {\"backgroundcolor\": \"#E5ECF6\", \"gridcolor\": \"white\", \"gridwidth\": 2, \"linecolor\": \"white\", \"showbackground\": true, \"ticks\": \"\", \"zerolinecolor\": \"white\"}, \"yaxis\": {\"backgroundcolor\": \"#E5ECF6\", \"gridcolor\": \"white\", \"gridwidth\": 2, \"linecolor\": \"white\", \"showbackground\": true, \"ticks\": \"\", \"zerolinecolor\": \"white\"}, \"zaxis\": {\"backgroundcolor\": \"#E5ECF6\", \"gridcolor\": \"white\", \"gridwidth\": 2, \"linecolor\": \"white\", \"showbackground\": true, \"ticks\": \"\", \"zerolinecolor\": \"white\"}}, \"shapedefaults\": {\"line\": {\"color\": \"#2a3f5f\"}}, \"ternary\": {\"aaxis\": {\"gridcolor\": \"white\", \"linecolor\": \"white\", \"ticks\": \"\"}, \"baxis\": {\"gridcolor\": \"white\", \"linecolor\": \"white\", \"ticks\": \"\"}, \"bgcolor\": \"#E5ECF6\", \"caxis\": {\"gridcolor\": \"white\", \"linecolor\": \"white\", \"ticks\": \"\"}}, \"title\": {\"x\": 0.05}, \"xaxis\": {\"automargin\": true, \"gridcolor\": \"white\", \"linecolor\": \"white\", \"ticks\": \"\", \"title\": {\"standoff\": 15}, \"zerolinecolor\": \"white\", \"zerolinewidth\": 2}, \"yaxis\": {\"automargin\": true, \"gridcolor\": \"white\", \"linecolor\": \"white\", \"ticks\": \"\", \"title\": {\"standoff\": 15}, \"zerolinecolor\": \"white\", \"zerolinewidth\": 2}}}},\n",
       "                        {\"responsive\": true}\n",
       "                    ).then(function(){\n",
       "                            \n",
       "var gd = document.getElementById('c6d1a28f-ddd0-473a-b27d-1780d0f12bb4');\n",
       "var x = new MutationObserver(function (mutations, observer) {{\n",
       "        var display = window.getComputedStyle(gd).display;\n",
       "        if (!display || display === 'none') {{\n",
       "            console.log([gd, 'removed!']);\n",
       "            Plotly.purge(gd);\n",
       "            observer.disconnect();\n",
       "        }}\n",
       "}});\n",
       "\n",
       "// Listen for the removal of the full notebook cells\n",
       "var notebookContainer = gd.closest('#notebook-container');\n",
       "if (notebookContainer) {{\n",
       "    x.observe(notebookContainer, {childList: true});\n",
       "}}\n",
       "\n",
       "// Listen for the clearing of the current output cell\n",
       "var outputEl = gd.closest('.output');\n",
       "if (outputEl) {{\n",
       "    x.observe(outputEl, {childList: true});\n",
       "}}\n",
       "\n",
       "                        })\n",
       "                };\n",
       "                });\n",
       "            </script>\n",
       "        </div>"
      ]
     },
     "metadata": {},
     "output_type": "display_data"
    }
   ],
   "source": [
    "import plotly.graph_objects as go\n",
    "\n",
    "fig = go.Figure()\n",
    "\n",
    "fig.add_trace(go.Scatter(\n",
    "    x=[0, 1, 2],\n",
    "    y=[1, 1, 1],\n",
    "    mode=\"lines+markers+text\",\n",
    "    name=\"Lines, Markers and Text\",\n",
    "    text=[\"Text A\", \"Text B\", \"Text C\"],\n",
    "    textposition=\"top center\"\n",
    "))\n",
    "\n",
    "fig.add_trace(go.Scatter(\n",
    "    x=[0, 1, 2],\n",
    "    y=[2, 2, 2],\n",
    "    mode=\"markers+text\",\n",
    "    name=\"Markers and Text\",\n",
    "    text=[\"Text D\", \"Text E\", \"Text F\"],\n",
    "    textposition=\"bottom center\"\n",
    "))\n",
    "\n",
    "fig.add_trace(go.Scatter(\n",
    "    x=[0, 1, 2],\n",
    "    y=[3, 3, 3],\n",
    "    mode=\"lines+text\",\n",
    "    name=\"Lines and Text\",\n",
    "    text=[\"Text G\", \"Text H\", \"Text I\"],\n",
    "    textposition=\"bottom center\"\n",
    "))\n",
    "\n",
    "fig.show()"
   ]
  },
  {
   "cell_type": "code",
   "execution_count": 23,
   "metadata": {},
   "outputs": [],
   "source": [
    "df=data"
   ]
  },
  {
   "cell_type": "code",
   "execution_count": 42,
   "metadata": {},
   "outputs": [
    {
     "data": {
      "text/plain": [
       "Text(0.5, 1.0, 'Gender wise liver patient')"
      ]
     },
     "execution_count": 42,
     "metadata": {},
     "output_type": "execute_result"
    },
    {
     "data": {
      "image/png": "[encoded data removed]",
      "text/plain": [
       "<Figure size 1080x720 with 2 Axes>"
      ]
     },
     "metadata": {},
     "output_type": "display_data"
    }
   ],
   "source": [
    "target_counts=df['Dataset'].value_counts().values\n",
    "gender_counts=df['Gender'].value_counts().values\n",
    "\n",
    "fig1, axes=plt.subplots(nrows=1, ncols=2,figsize=(15,10))\n",
    "\n",
    "\n",
    "target_sizes=df.groupby('Dataset').size()\n",
    "axes[0].pie(\n",
    "    x=target_counts,\n",
    "    labels=['patient({})'.format(target_sizes[1]),'not patient({})'.format(target_sizes[2])],\n",
    "    autopct='%1.2f%%'\n",
    ")\n",
    "axes[0].set_title(\"Percentage of liver patient\")\n",
    "\n",
    "gender_sizes=actual.groupby('Gender').size()\n",
    "axes[1].pie(\n",
    "    x=gender_counts, \n",
    "    labels=['male({})'.format(gender_sizes['Male']), 'female({})'.format(gender_sizes['Female'])], \n",
    "    autopct=\"%1.2f%%\"\n",
    ")\n",
    "axes[1].set_title(\"Gender wise liver patient\")"
   ]
  },
  {
   "cell_type": "code",
   "execution_count": 78,
   "metadata": {},
   "outputs": [
    {
     "data": {
      "text/plain": [
       "416"
      ]
     },
     "execution_count": 78,
     "metadata": {},
     "output_type": "execute_result"
    }
   ],
   "source": [
    "target_sizes[1]"
   ]
  },
  {
   "cell_type": "code",
   "execution_count": 77,
   "metadata": {},
   "outputs": [
    {
     "data": {
      "text/plain": [
       "array([416, 167])"
      ]
     },
     "execution_count": 77,
     "metadata": {},
     "output_type": "execute_result"
    }
   ],
   "source": [
    "target_counts"
   ]
  },
  {
   "cell_type": "code",
   "execution_count": 25,
   "metadata": {},
   "outputs": [],
   "source": [
    "actual=data[data['Dataset']==1]"
   ]
  },
  {
   "cell_type": "code",
   "execution_count": 26,
   "metadata": {},
   "outputs": [],
   "source": [
    "no_disease=data[data['Dataset']==2]"
   ]
  },
  {
   "cell_type": "code",
   "execution_count": null,
   "metadata": {},
   "outputs": [],
   "source": []
  },
  {
   "cell_type": "code",
   "execution_count": 27,
   "metadata": {},
   "outputs": [],
   "source": [
    "male_no=no_disease[no_disease['Gender']=='Male']"
   ]
  },
  {
   "cell_type": "code",
   "execution_count": 95,
   "metadata": {},
   "outputs": [
    {
     "data": {
      "text/plain": [
       "Gender\n",
       "Female    142\n",
       "Male      441\n",
       "dtype: int64"
      ]
     },
     "execution_count": 95,
     "metadata": {},
     "output_type": "execute_result"
    }
   ],
   "source": [
    "gender_sizes"
   ]
  },
  {
   "cell_type": "code",
   "execution_count": 96,
   "metadata": {},
   "outputs": [
    {
     "data": {
      "text/plain": [
       "(416, 11)"
      ]
     },
     "execution_count": 96,
     "metadata": {},
     "output_type": "execute_result"
    }
   ],
   "source": [
    "actual.shape"
   ]
  },
  {
   "cell_type": "code",
   "execution_count": 97,
   "metadata": {},
   "outputs": [
    {
     "data": {
      "text/plain": [
       "(583, 11)"
      ]
     },
     "execution_count": 97,
     "metadata": {},
     "output_type": "execute_result"
    }
   ],
   "source": [
    "df.shape"
   ]
  },
  {
   "cell_type": "code",
   "execution_count": 28,
   "metadata": {},
   "outputs": [
    {
     "data": {
      "text/plain": [
       "Gender\n",
       "Female     92\n",
       "Male      324\n",
       "dtype: int64"
      ]
     },
     "execution_count": 28,
     "metadata": {},
     "output_type": "execute_result"
    }
   ],
   "source": [
    "actual.groupby('Gender').size()"
   ]
  },
  {
   "cell_type": "code",
   "execution_count": 29,
   "metadata": {},
   "outputs": [],
   "source": [
    "male=actual[actual['Gender']=='Male']\n",
    "Female=actual[actual['Gender']=='Female']"
   ]
  },
  {
   "cell_type": "code",
   "execution_count": 108,
   "metadata": {
    "scrolled": true
   },
   "outputs": [
    {
     "data": {
      "text/plain": [
       "<matplotlib.axes._subplots.AxesSubplot at 0x7f22bb2722e8>"
      ]
     },
     "execution_count": 108,
     "metadata": {},
     "output_type": "execute_result"
    },
    {
     "data": {
      "image/png": "[encoded data removed]",
      "text/plain": [
       "<Figure size 432x288 with 1 Axes>"
      ]
     },
     "metadata": {
      "needs_background": "light"
     },
     "output_type": "display_data"
    }
   ],
   "source": [
    "sns.scatterplot(x='Total_Bilirubin',y='Total_Protiens',data=actual)"
   ]
  },
  {
   "cell_type": "code",
   "execution_count": 143,
   "metadata": {},
   "outputs": [
    {
     "data": {
      "text/plain": [
       "Text(0.5, 1.0, 'Male Patients without liver dieases')"
      ]
     },
     "execution_count": 143,
     "metadata": {},
     "output_type": "execute_result"
    },
    {
     "data": {
      "image/png": "[encoded data removed]",
      "text/plain": [
       "<Figure size 1080x360 with 2 Axes>"
      ]
     },
     "metadata": {
      "needs_background": "light"
     },
     "output_type": "display_data"
    }
   ],
   "source": [
    "fig1, axes=plt.subplots(nrows=1, ncols=2,figsize=(15,5))\n",
    "axes[0].scatter(x='Total_Bilirubin',y='Total_Protiens',data=male)\n",
    "axes[1].scatter(x='Total_Bilirubin',y='Total_Protiens',data=male_no)\n",
    "axes[0].set_xlabel('Total Bilirubin')\n",
    "axes[0].set_ylabel('Total Protein')\n",
    "axes[0].set_title ('Male Patients with liver dieases')\n",
    "axes[1].set_xlabel('Total Bilirubin') \n",
    "axes[1].set_ylabel('Total Protein')\n",
    "axes[1].set_title ('Male Patients without liver dieases')"
   ]
  },
  {
   "cell_type": "code",
   "execution_count": 314,
   "metadata": {},
   "outputs": [
    {
     "data": {
      "text/plain": [
       "Text(0.5, 1.0, 'Male Patients without liver dieases')"
      ]
     },
     "execution_count": 314,
     "metadata": {},
     "output_type": "execute_result"
    },
    {
     "data": {
      "image/png": "[encoded data removed]",
      "text/plain": [
       "<Figure size 1080x360 with 2 Axes>"
      ]
     },
     "metadata": {
      "needs_background": "light"
     },
     "output_type": "display_data"
    }
   ],
   "source": [
    "fig1, axes=plt.subplots(nrows=1, ncols=2,figsize=(15,5))\n",
    "axes[0].scatter(x='Alamine_Aminotransferase',y='Alkaline_Phosphotase',data=male)\n",
    "axes[1].scatter(x='Alamine_Aminotransferase',y='Alkaline_Phosphotase',data=male_no)\n",
    "axes[0].set_xlabel('Alamine_Aminotransferase')\n",
    "axes[0].set_ylabel('Alkaline_Phosphotase')\n",
    "axes[0].set_title ('Male Patients with liver dieases')\n",
    "axes[1].set_xlabel('Alamine_Aminotransferase') \n",
    "axes[1].set_ylabel('Alkaline_Phosphotase')\n",
    "axes[1].set_title ('Male Patients without liver dieases')"
   ]
  },
  {
   "cell_type": "code",
   "execution_count": 375,
   "metadata": {},
   "outputs": [
    {
     "data": {
      "text/plain": [
       "<seaborn.axisgrid.FacetGrid at 0x7f22c1143048>"
      ]
     },
     "execution_count": 375,
     "metadata": {},
     "output_type": "execute_result"
    },
    {
     "data": {
      "image/png": "[encoded data removed]",
      "text/plain": [
       "<Figure size 432x432 with 4 Axes>"
      ]
     },
     "metadata": {
      "needs_background": "light"
     },
     "output_type": "display_data"
    }
   ],
   "source": [
    "g=sns.FacetGrid(data=df,row='Gender',col='Dataset')\n",
    "g.map(plt.scatter,'Alamine_Aminotransferase','Alkaline_Phosphotase')"
   ]
  },
  {
   "cell_type": "code",
   "execution_count": null,
   "metadata": {},
   "outputs": [],
   "source": []
  }
 ],
 "metadata": {
  "kernelspec": {
   "display_name": "Python 3",
   "language": "python",
   "name": "python3"
  },
  "language_info": {
   "codemirror_mode": {
    "name": "ipython",
    "version": 3
   },
   "file_extension": ".py",
   "mimetype": "text/x-python",
   "name": "python",
   "nbconvert_exporter": "python",
   "pygments_lexer": "ipython3",
   "version": "3.7.3"
  }
 },
 "nbformat": 4,
 "nbformat_minor": 2
}
